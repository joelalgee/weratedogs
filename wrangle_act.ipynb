{
 "cells": [
  {
   "cell_type": "markdown",
   "metadata": {},
   "source": [
    "# Wrangle & Analyze Twitter Data from WeRateDogs\n",
    "\n",
    "In this project we gather, assess and clean data on tweets by WeRateDogs from three sources:\n",
    "\n",
    "* A given csv file containing an archive of tweets to be analyzed.\n",
    "* A remotely hosted tsv file containing predictions of dog breed pictured per tweet.\n",
    "* Data on tweet retweets and favorites obtained via Twitter's API.\n",
    "\n",
    "We then analyze the data and report findings.\n",
    "\n",
    "Wrangling activities for this project are limited to assessing and cleaning eight quality issues and two tidiness issues."
   ]
  },
  {
   "cell_type": "code",
   "execution_count": 1,
   "metadata": {},
   "outputs": [],
   "source": [
    "import pandas as pd\n",
    "import numpy as np\n",
    "import requests\n",
    "import io\n",
    "import tweepy\n",
    "import json\n",
    "import matplotlib.pyplot as plt\n",
    "import seaborn as sns\n",
    "\n",
    "%matplotlib inline"
   ]
  },
  {
   "cell_type": "markdown",
   "metadata": {},
   "source": [
    "## 1 Gather data\n",
    "\n",
    "### 1.1 Tweet archive\n",
    "\n",
    "This given csv just needs to be loaded into a dataframe, direct from the folder."
   ]
  },
  {
   "cell_type": "code",
   "execution_count": 2,
   "metadata": {},
   "outputs": [
    {
     "data": {
      "text/html": [
       "<div>\n",
       "<style scoped>\n",
       "    .dataframe tbody tr th:only-of-type {\n",
       "        vertical-align: middle;\n",
       "    }\n",
       "\n",
       "    .dataframe tbody tr th {\n",
       "        vertical-align: top;\n",
       "    }\n",
       "\n",
       "    .dataframe thead th {\n",
       "        text-align: right;\n",
       "    }\n",
       "</style>\n",
       "<table border=\"1\" class=\"dataframe\">\n",
       "  <thead>\n",
       "    <tr style=\"text-align: right;\">\n",
       "      <th></th>\n",
       "      <th>tweet_id</th>\n",
       "      <th>in_reply_to_status_id</th>\n",
       "      <th>in_reply_to_user_id</th>\n",
       "      <th>timestamp</th>\n",
       "      <th>source</th>\n",
       "      <th>text</th>\n",
       "      <th>retweeted_status_id</th>\n",
       "      <th>retweeted_status_user_id</th>\n",
       "      <th>retweeted_status_timestamp</th>\n",
       "      <th>expanded_urls</th>\n",
       "      <th>rating_numerator</th>\n",
       "      <th>rating_denominator</th>\n",
       "      <th>name</th>\n",
       "      <th>doggo</th>\n",
       "      <th>floofer</th>\n",
       "      <th>pupper</th>\n",
       "      <th>puppo</th>\n",
       "    </tr>\n",
       "  </thead>\n",
       "  <tbody>\n",
       "    <tr>\n",
       "      <th>0</th>\n",
       "      <td>892420643555336193</td>\n",
       "      <td>NaN</td>\n",
       "      <td>NaN</td>\n",
       "      <td>2017-08-01 16:23:56 +0000</td>\n",
       "      <td>&lt;a href=\"http://twitter.com/download/iphone\" r...</td>\n",
       "      <td>This is Phineas. He's a mystical boy. Only eve...</td>\n",
       "      <td>NaN</td>\n",
       "      <td>NaN</td>\n",
       "      <td>NaN</td>\n",
       "      <td>https://twitter.com/dog_rates/status/892420643...</td>\n",
       "      <td>13</td>\n",
       "      <td>10</td>\n",
       "      <td>Phineas</td>\n",
       "      <td>None</td>\n",
       "      <td>None</td>\n",
       "      <td>None</td>\n",
       "      <td>None</td>\n",
       "    </tr>\n",
       "    <tr>\n",
       "      <th>1</th>\n",
       "      <td>892177421306343426</td>\n",
       "      <td>NaN</td>\n",
       "      <td>NaN</td>\n",
       "      <td>2017-08-01 00:17:27 +0000</td>\n",
       "      <td>&lt;a href=\"http://twitter.com/download/iphone\" r...</td>\n",
       "      <td>This is Tilly. She's just checking pup on you....</td>\n",
       "      <td>NaN</td>\n",
       "      <td>NaN</td>\n",
       "      <td>NaN</td>\n",
       "      <td>https://twitter.com/dog_rates/status/892177421...</td>\n",
       "      <td>13</td>\n",
       "      <td>10</td>\n",
       "      <td>Tilly</td>\n",
       "      <td>None</td>\n",
       "      <td>None</td>\n",
       "      <td>None</td>\n",
       "      <td>None</td>\n",
       "    </tr>\n",
       "    <tr>\n",
       "      <th>2</th>\n",
       "      <td>891815181378084864</td>\n",
       "      <td>NaN</td>\n",
       "      <td>NaN</td>\n",
       "      <td>2017-07-31 00:18:03 +0000</td>\n",
       "      <td>&lt;a href=\"http://twitter.com/download/iphone\" r...</td>\n",
       "      <td>This is Archie. He is a rare Norwegian Pouncin...</td>\n",
       "      <td>NaN</td>\n",
       "      <td>NaN</td>\n",
       "      <td>NaN</td>\n",
       "      <td>https://twitter.com/dog_rates/status/891815181...</td>\n",
       "      <td>12</td>\n",
       "      <td>10</td>\n",
       "      <td>Archie</td>\n",
       "      <td>None</td>\n",
       "      <td>None</td>\n",
       "      <td>None</td>\n",
       "      <td>None</td>\n",
       "    </tr>\n",
       "    <tr>\n",
       "      <th>3</th>\n",
       "      <td>891689557279858688</td>\n",
       "      <td>NaN</td>\n",
       "      <td>NaN</td>\n",
       "      <td>2017-07-30 15:58:51 +0000</td>\n",
       "      <td>&lt;a href=\"http://twitter.com/download/iphone\" r...</td>\n",
       "      <td>This is Darla. She commenced a snooze mid meal...</td>\n",
       "      <td>NaN</td>\n",
       "      <td>NaN</td>\n",
       "      <td>NaN</td>\n",
       "      <td>https://twitter.com/dog_rates/status/891689557...</td>\n",
       "      <td>13</td>\n",
       "      <td>10</td>\n",
       "      <td>Darla</td>\n",
       "      <td>None</td>\n",
       "      <td>None</td>\n",
       "      <td>None</td>\n",
       "      <td>None</td>\n",
       "    </tr>\n",
       "    <tr>\n",
       "      <th>4</th>\n",
       "      <td>891327558926688256</td>\n",
       "      <td>NaN</td>\n",
       "      <td>NaN</td>\n",
       "      <td>2017-07-29 16:00:24 +0000</td>\n",
       "      <td>&lt;a href=\"http://twitter.com/download/iphone\" r...</td>\n",
       "      <td>This is Franklin. He would like you to stop ca...</td>\n",
       "      <td>NaN</td>\n",
       "      <td>NaN</td>\n",
       "      <td>NaN</td>\n",
       "      <td>https://twitter.com/dog_rates/status/891327558...</td>\n",
       "      <td>12</td>\n",
       "      <td>10</td>\n",
       "      <td>Franklin</td>\n",
       "      <td>None</td>\n",
       "      <td>None</td>\n",
       "      <td>None</td>\n",
       "      <td>None</td>\n",
       "    </tr>\n",
       "  </tbody>\n",
       "</table>\n",
       "</div>"
      ],
      "text/plain": [
       "             tweet_id  in_reply_to_status_id  in_reply_to_user_id  \\\n",
       "0  892420643555336193                    NaN                  NaN   \n",
       "1  892177421306343426                    NaN                  NaN   \n",
       "2  891815181378084864                    NaN                  NaN   \n",
       "3  891689557279858688                    NaN                  NaN   \n",
       "4  891327558926688256                    NaN                  NaN   \n",
       "\n",
       "                   timestamp  \\\n",
       "0  2017-08-01 16:23:56 +0000   \n",
       "1  2017-08-01 00:17:27 +0000   \n",
       "2  2017-07-31 00:18:03 +0000   \n",
       "3  2017-07-30 15:58:51 +0000   \n",
       "4  2017-07-29 16:00:24 +0000   \n",
       "\n",
       "                                              source  \\\n",
       "0  <a href=\"http://twitter.com/download/iphone\" r...   \n",
       "1  <a href=\"http://twitter.com/download/iphone\" r...   \n",
       "2  <a href=\"http://twitter.com/download/iphone\" r...   \n",
       "3  <a href=\"http://twitter.com/download/iphone\" r...   \n",
       "4  <a href=\"http://twitter.com/download/iphone\" r...   \n",
       "\n",
       "                                                text  retweeted_status_id  \\\n",
       "0  This is Phineas. He's a mystical boy. Only eve...                  NaN   \n",
       "1  This is Tilly. She's just checking pup on you....                  NaN   \n",
       "2  This is Archie. He is a rare Norwegian Pouncin...                  NaN   \n",
       "3  This is Darla. She commenced a snooze mid meal...                  NaN   \n",
       "4  This is Franklin. He would like you to stop ca...                  NaN   \n",
       "\n",
       "   retweeted_status_user_id retweeted_status_timestamp  \\\n",
       "0                       NaN                        NaN   \n",
       "1                       NaN                        NaN   \n",
       "2                       NaN                        NaN   \n",
       "3                       NaN                        NaN   \n",
       "4                       NaN                        NaN   \n",
       "\n",
       "                                       expanded_urls  rating_numerator  \\\n",
       "0  https://twitter.com/dog_rates/status/892420643...                13   \n",
       "1  https://twitter.com/dog_rates/status/892177421...                13   \n",
       "2  https://twitter.com/dog_rates/status/891815181...                12   \n",
       "3  https://twitter.com/dog_rates/status/891689557...                13   \n",
       "4  https://twitter.com/dog_rates/status/891327558...                12   \n",
       "\n",
       "   rating_denominator      name doggo floofer pupper puppo  \n",
       "0                  10   Phineas  None    None   None  None  \n",
       "1                  10     Tilly  None    None   None  None  \n",
       "2                  10    Archie  None    None   None  None  \n",
       "3                  10     Darla  None    None   None  None  \n",
       "4                  10  Franklin  None    None   None  None  "
      ]
     },
     "execution_count": 2,
     "metadata": {},
     "output_type": "execute_result"
    }
   ],
   "source": [
    "df_archive = pd.read_csv('twitter-archive-enhanced.csv')\n",
    "df_archive.head()"
   ]
  },
  {
   "cell_type": "markdown",
   "metadata": {},
   "source": [
    "### 1.2 Image predictions\n",
    "\n",
    "This tsv needs to be downloaded from Udacity's servers and loaded into a dataframe. Using the `requests` library rather than reading directly into `pd.read_csv` is a project requirement.\n",
    "\n",
    "Download the file:"
   ]
  },
  {
   "cell_type": "code",
   "execution_count": 3,
   "metadata": {},
   "outputs": [],
   "source": [
    "url = 'https://d17h27t6h515a5.cloudfront.net/topher/2017/' + \\\n",
    "      'August/599fd2ad_image-predictions/image-predictions.tsv'\n",
    "\n",
    "r = requests.get(url)"
   ]
  },
  {
   "cell_type": "markdown",
   "metadata": {},
   "source": [
    "Check the encoding:"
   ]
  },
  {
   "cell_type": "code",
   "execution_count": 4,
   "metadata": {},
   "outputs": [
    {
     "data": {
      "text/plain": [
       "'utf-8'"
      ]
     },
     "execution_count": 4,
     "metadata": {},
     "output_type": "execute_result"
    }
   ],
   "source": [
    "r.encoding"
   ]
  },
  {
   "cell_type": "markdown",
   "metadata": {},
   "source": [
    "Load into a dataframe:"
   ]
  },
  {
   "cell_type": "code",
   "execution_count": 5,
   "metadata": {},
   "outputs": [
    {
     "data": {
      "text/html": [
       "<div>\n",
       "<style scoped>\n",
       "    .dataframe tbody tr th:only-of-type {\n",
       "        vertical-align: middle;\n",
       "    }\n",
       "\n",
       "    .dataframe tbody tr th {\n",
       "        vertical-align: top;\n",
       "    }\n",
       "\n",
       "    .dataframe thead th {\n",
       "        text-align: right;\n",
       "    }\n",
       "</style>\n",
       "<table border=\"1\" class=\"dataframe\">\n",
       "  <thead>\n",
       "    <tr style=\"text-align: right;\">\n",
       "      <th></th>\n",
       "      <th>tweet_id</th>\n",
       "      <th>jpg_url</th>\n",
       "      <th>img_num</th>\n",
       "      <th>p1</th>\n",
       "      <th>p1_conf</th>\n",
       "      <th>p1_dog</th>\n",
       "      <th>p2</th>\n",
       "      <th>p2_conf</th>\n",
       "      <th>p2_dog</th>\n",
       "      <th>p3</th>\n",
       "      <th>p3_conf</th>\n",
       "      <th>p3_dog</th>\n",
       "    </tr>\n",
       "  </thead>\n",
       "  <tbody>\n",
       "    <tr>\n",
       "      <th>0</th>\n",
       "      <td>666020888022790149</td>\n",
       "      <td>https://pbs.twimg.com/media/CT4udn0WwAA0aMy.jpg</td>\n",
       "      <td>1</td>\n",
       "      <td>Welsh_springer_spaniel</td>\n",
       "      <td>0.465074</td>\n",
       "      <td>True</td>\n",
       "      <td>collie</td>\n",
       "      <td>0.156665</td>\n",
       "      <td>True</td>\n",
       "      <td>Shetland_sheepdog</td>\n",
       "      <td>0.061428</td>\n",
       "      <td>True</td>\n",
       "    </tr>\n",
       "    <tr>\n",
       "      <th>1</th>\n",
       "      <td>666029285002620928</td>\n",
       "      <td>https://pbs.twimg.com/media/CT42GRgUYAA5iDo.jpg</td>\n",
       "      <td>1</td>\n",
       "      <td>redbone</td>\n",
       "      <td>0.506826</td>\n",
       "      <td>True</td>\n",
       "      <td>miniature_pinscher</td>\n",
       "      <td>0.074192</td>\n",
       "      <td>True</td>\n",
       "      <td>Rhodesian_ridgeback</td>\n",
       "      <td>0.072010</td>\n",
       "      <td>True</td>\n",
       "    </tr>\n",
       "    <tr>\n",
       "      <th>2</th>\n",
       "      <td>666033412701032449</td>\n",
       "      <td>https://pbs.twimg.com/media/CT4521TWwAEvMyu.jpg</td>\n",
       "      <td>1</td>\n",
       "      <td>German_shepherd</td>\n",
       "      <td>0.596461</td>\n",
       "      <td>True</td>\n",
       "      <td>malinois</td>\n",
       "      <td>0.138584</td>\n",
       "      <td>True</td>\n",
       "      <td>bloodhound</td>\n",
       "      <td>0.116197</td>\n",
       "      <td>True</td>\n",
       "    </tr>\n",
       "    <tr>\n",
       "      <th>3</th>\n",
       "      <td>666044226329800704</td>\n",
       "      <td>https://pbs.twimg.com/media/CT5Dr8HUEAA-lEu.jpg</td>\n",
       "      <td>1</td>\n",
       "      <td>Rhodesian_ridgeback</td>\n",
       "      <td>0.408143</td>\n",
       "      <td>True</td>\n",
       "      <td>redbone</td>\n",
       "      <td>0.360687</td>\n",
       "      <td>True</td>\n",
       "      <td>miniature_pinscher</td>\n",
       "      <td>0.222752</td>\n",
       "      <td>True</td>\n",
       "    </tr>\n",
       "    <tr>\n",
       "      <th>4</th>\n",
       "      <td>666049248165822465</td>\n",
       "      <td>https://pbs.twimg.com/media/CT5IQmsXIAAKY4A.jpg</td>\n",
       "      <td>1</td>\n",
       "      <td>miniature_pinscher</td>\n",
       "      <td>0.560311</td>\n",
       "      <td>True</td>\n",
       "      <td>Rottweiler</td>\n",
       "      <td>0.243682</td>\n",
       "      <td>True</td>\n",
       "      <td>Doberman</td>\n",
       "      <td>0.154629</td>\n",
       "      <td>True</td>\n",
       "    </tr>\n",
       "  </tbody>\n",
       "</table>\n",
       "</div>"
      ],
      "text/plain": [
       "             tweet_id                                          jpg_url  \\\n",
       "0  666020888022790149  https://pbs.twimg.com/media/CT4udn0WwAA0aMy.jpg   \n",
       "1  666029285002620928  https://pbs.twimg.com/media/CT42GRgUYAA5iDo.jpg   \n",
       "2  666033412701032449  https://pbs.twimg.com/media/CT4521TWwAEvMyu.jpg   \n",
       "3  666044226329800704  https://pbs.twimg.com/media/CT5Dr8HUEAA-lEu.jpg   \n",
       "4  666049248165822465  https://pbs.twimg.com/media/CT5IQmsXIAAKY4A.jpg   \n",
       "\n",
       "   img_num                      p1   p1_conf  p1_dog                  p2  \\\n",
       "0        1  Welsh_springer_spaniel  0.465074    True              collie   \n",
       "1        1                 redbone  0.506826    True  miniature_pinscher   \n",
       "2        1         German_shepherd  0.596461    True            malinois   \n",
       "3        1     Rhodesian_ridgeback  0.408143    True             redbone   \n",
       "4        1      miniature_pinscher  0.560311    True          Rottweiler   \n",
       "\n",
       "    p2_conf  p2_dog                   p3   p3_conf  p3_dog  \n",
       "0  0.156665    True    Shetland_sheepdog  0.061428    True  \n",
       "1  0.074192    True  Rhodesian_ridgeback  0.072010    True  \n",
       "2  0.138584    True           bloodhound  0.116197    True  \n",
       "3  0.360687    True   miniature_pinscher  0.222752    True  \n",
       "4  0.243682    True             Doberman  0.154629    True  "
      ]
     },
     "execution_count": 5,
     "metadata": {},
     "output_type": "execute_result"
    }
   ],
   "source": [
    "content = io.StringIO(r.content.decode('utf-8'))\n",
    "\n",
    "df_img_pred = pd.read_csv(content, sep='\\t')\n",
    "df_img_pred.head()"
   ]
  },
  {
   "cell_type": "markdown",
   "metadata": {},
   "source": [
    "### 1.3 Retweets and favorites\n",
    "\n",
    "This data needs to be obtained via the Twitter API using tweepy and loaded into a dataframe.\n",
    "\n",
    "Tweepy requests 100 tweets at a time, so put tweet ids into batches of 100:"
   ]
  },
  {
   "cell_type": "code",
   "execution_count": 6,
   "metadata": {},
   "outputs": [
    {
     "data": {
      "text/plain": [
       "24"
      ]
     },
     "execution_count": 6,
     "metadata": {},
     "output_type": "execute_result"
    }
   ],
   "source": [
    "n = 100\n",
    "ids = df_archive['tweet_id'].tolist()\n",
    "batched = [ids[i:i + 100] for i in range(0, len(ids), 100)]\n",
    "len(batched)"
   ]
  },
  {
   "cell_type": "markdown",
   "metadata": {},
   "source": [
    "Retrieve data for the batches of tweets from the Twitter API, waiting for 15 min and retrying current batch if there is a rate limit error:"
   ]
  },
  {
   "cell_type": "code",
   "execution_count": 7,
   "metadata": {},
   "outputs": [
    {
     "name": "stdout",
     "output_type": "stream",
     "text": [
      "attempting batch 1\n",
      "attempting batch 2\n",
      "attempting batch 3\n",
      "attempting batch 4\n",
      "attempting batch 5\n",
      "attempting batch 6\n",
      "attempting batch 7\n",
      "attempting batch 8\n",
      "attempting batch 9\n",
      "attempting batch 10\n",
      "attempting batch 11\n",
      "attempting batch 12\n",
      "attempting batch 13\n",
      "attempting batch 14\n",
      "attempting batch 15\n",
      "attempting batch 16\n",
      "attempting batch 17\n",
      "attempting batch 18\n",
      "attempting batch 19\n",
      "attempting batch 20\n",
      "attempting batch 21\n",
      "attempting batch 22\n",
      "attempting batch 23\n",
      "attempting batch 24\n"
     ]
    }
   ],
   "source": [
    "tweets = []\n",
    "consumer_key = 'ENTER KEY HERE'\n",
    "consumer_secret = 'ENTER SECRET HERE'\n",
    "auth = tweepy.AppAuthHandler(consumer_key, consumer_secret)\n",
    "api = tweepy.API(auth)\n",
    "\n",
    "i = 1\n",
    "for batch in batched:\n",
    "    while True:\n",
    "        try:\n",
    "            print(f'attempting batch {i}')\n",
    "            tweets += api.statuses_lookup(batch, trim_user=True)\n",
    "        except tweepy.RateLimitError:\n",
    "            print(f'waiting on batch {i}')\n",
    "            time.sleep(15 * 60)\n",
    "        else:\n",
    "            i += 1\n",
    "            break"
   ]
  },
  {
   "cell_type": "markdown",
   "metadata": {},
   "source": [
    "Check how many tweets we were able to get data for:"
   ]
  },
  {
   "cell_type": "code",
   "execution_count": 8,
   "metadata": {},
   "outputs": [
    {
     "data": {
      "text/plain": [
       "2331"
      ]
     },
     "execution_count": 8,
     "metadata": {},
     "output_type": "execute_result"
    }
   ],
   "source": [
    "len(tweets)"
   ]
  },
  {
   "cell_type": "markdown",
   "metadata": {},
   "source": [
    "Save full json data for each tweet to `tweet_json.txt`. This is a project requirement."
   ]
  },
  {
   "cell_type": "code",
   "execution_count": 9,
   "metadata": {},
   "outputs": [],
   "source": [
    "with open('tweet_json.txt', 'w', encoding='utf-8') as f:\n",
    "    for tweet in tweets:\n",
    "        json.dump(tweet._json, f)\n",
    "        f.write('\\n')"
   ]
  },
  {
   "cell_type": "markdown",
   "metadata": {},
   "source": [
    "Load tweet ID, retweet count, and favorite count from `tweet_json.txt` into a dataframe. Reading the file line by line is a project requirement."
   ]
  },
  {
   "cell_type": "code",
   "execution_count": 10,
   "metadata": {},
   "outputs": [
    {
     "data": {
      "text/html": [
       "<div>\n",
       "<style scoped>\n",
       "    .dataframe tbody tr th:only-of-type {\n",
       "        vertical-align: middle;\n",
       "    }\n",
       "\n",
       "    .dataframe tbody tr th {\n",
       "        vertical-align: top;\n",
       "    }\n",
       "\n",
       "    .dataframe thead th {\n",
       "        text-align: right;\n",
       "    }\n",
       "</style>\n",
       "<table border=\"1\" class=\"dataframe\">\n",
       "  <thead>\n",
       "    <tr style=\"text-align: right;\">\n",
       "      <th></th>\n",
       "      <th>tweet_id</th>\n",
       "      <th>retweets</th>\n",
       "      <th>favorites</th>\n",
       "    </tr>\n",
       "  </thead>\n",
       "  <tbody>\n",
       "    <tr>\n",
       "      <th>0</th>\n",
       "      <td>876484053909872640</td>\n",
       "      <td>2117</td>\n",
       "      <td>17378</td>\n",
       "    </tr>\n",
       "    <tr>\n",
       "      <th>1</th>\n",
       "      <td>886366144734445568</td>\n",
       "      <td>2823</td>\n",
       "      <td>19484</td>\n",
       "    </tr>\n",
       "    <tr>\n",
       "      <th>2</th>\n",
       "      <td>877611172832227328</td>\n",
       "      <td>71</td>\n",
       "      <td>0</td>\n",
       "    </tr>\n",
       "    <tr>\n",
       "      <th>3</th>\n",
       "      <td>888078434458587136</td>\n",
       "      <td>3092</td>\n",
       "      <td>20091</td>\n",
       "    </tr>\n",
       "    <tr>\n",
       "      <th>4</th>\n",
       "      <td>891689557279858688</td>\n",
       "      <td>7701</td>\n",
       "      <td>38837</td>\n",
       "    </tr>\n",
       "  </tbody>\n",
       "</table>\n",
       "</div>"
      ],
      "text/plain": [
       "             tweet_id  retweets  favorites\n",
       "0  876484053909872640      2117      17378\n",
       "1  886366144734445568      2823      19484\n",
       "2  877611172832227328        71          0\n",
       "3  888078434458587136      3092      20091\n",
       "4  891689557279858688      7701      38837"
      ]
     },
     "execution_count": 10,
     "metadata": {},
     "output_type": "execute_result"
    }
   ],
   "source": [
    "api_data = []\n",
    "\n",
    "with open('tweet_json.txt', 'r', encoding='utf-8') as f:\n",
    "    for l in f.readlines():\n",
    "        j = json.loads(l)\n",
    "        api_data.append([j['id'], j['retweet_count'], j['favorite_count']])\n",
    "        \n",
    "df_api = pd.DataFrame(api_data, columns=['tweet_id', 'retweets', 'favorites'])\n",
    "df_api.head()"
   ]
  },
  {
   "cell_type": "markdown",
   "metadata": {},
   "source": [
    "### 1.4 Summary\n",
    "\n",
    "We now have the data in three dataframes as follows:\n",
    "\n",
    "* `df_archive` contains the tweet data from the given csv file\n",
    "* `df_img_pred` contains the predictions of dog breed from the downloaded tsv\n",
    "* `df_api` contains the retweet and favorite data obtained via the Twitter API\n",
    "\n",
    "## 2 Assess and clean data\n",
    "\n",
    "Issues are tackled as discovered as many are inter-related. A summary is provided at the end."
   ]
  },
  {
   "cell_type": "markdown",
   "metadata": {},
   "source": [
    "### 2.1 One dataframe per observational unit\n",
    "\n",
    "Examine the dataframes visually, looking at the heads (see above).\n",
    "\n",
    "Check the number of tweets in each dataframe:"
   ]
  },
  {
   "cell_type": "code",
   "execution_count": 11,
   "metadata": {},
   "outputs": [
    {
     "data": {
      "text/plain": [
       "(2356, 2075, 2331)"
      ]
     },
     "execution_count": 11,
     "metadata": {},
     "output_type": "execute_result"
    }
   ],
   "source": [
    "(len(df_archive), len(df_img_pred), len(df_api))"
   ]
  },
  {
   "cell_type": "markdown",
   "metadata": {},
   "source": [
    "#### 2.1.1 Assess\n",
    "\n",
    "* The data is split across three dataframes but they all relate to one type of observational unit (a tweet).\n",
    "* Data for some tweets is missing from one or more dataframes.\n",
    "\n",
    "#### 2.1.2 Define\n",
    "\n",
    "Merge the dataframes on the tweet_id column, using an inner join so we are left only with rows for which we have data from all sources.\n",
    "\n",
    "#### 2.1.3 Code"
   ]
  },
  {
   "cell_type": "code",
   "execution_count": 12,
   "metadata": {},
   "outputs": [],
   "source": [
    "df_tidy = df_archive.merge(df_img_pred, on='tweet_id', how='inner') \\\n",
    "                     .merge(df_api, on='tweet_id', how='inner')"
   ]
  },
  {
   "cell_type": "markdown",
   "metadata": {},
   "source": [
    "#### 2.1.4 Test\n",
    "\n",
    "Visually inspect dataframe head and columns, and check how many rows are present:"
   ]
  },
  {
   "cell_type": "code",
   "execution_count": 13,
   "metadata": {},
   "outputs": [
    {
     "data": {
      "text/html": [
       "<div>\n",
       "<style scoped>\n",
       "    .dataframe tbody tr th:only-of-type {\n",
       "        vertical-align: middle;\n",
       "    }\n",
       "\n",
       "    .dataframe tbody tr th {\n",
       "        vertical-align: top;\n",
       "    }\n",
       "\n",
       "    .dataframe thead th {\n",
       "        text-align: right;\n",
       "    }\n",
       "</style>\n",
       "<table border=\"1\" class=\"dataframe\">\n",
       "  <thead>\n",
       "    <tr style=\"text-align: right;\">\n",
       "      <th></th>\n",
       "      <th>tweet_id</th>\n",
       "      <th>in_reply_to_status_id</th>\n",
       "      <th>in_reply_to_user_id</th>\n",
       "      <th>timestamp</th>\n",
       "      <th>source</th>\n",
       "      <th>text</th>\n",
       "      <th>retweeted_status_id</th>\n",
       "      <th>retweeted_status_user_id</th>\n",
       "      <th>retweeted_status_timestamp</th>\n",
       "      <th>expanded_urls</th>\n",
       "      <th>...</th>\n",
       "      <th>p1_conf</th>\n",
       "      <th>p1_dog</th>\n",
       "      <th>p2</th>\n",
       "      <th>p2_conf</th>\n",
       "      <th>p2_dog</th>\n",
       "      <th>p3</th>\n",
       "      <th>p3_conf</th>\n",
       "      <th>p3_dog</th>\n",
       "      <th>retweets</th>\n",
       "      <th>favorites</th>\n",
       "    </tr>\n",
       "  </thead>\n",
       "  <tbody>\n",
       "    <tr>\n",
       "      <th>0</th>\n",
       "      <td>892420643555336193</td>\n",
       "      <td>NaN</td>\n",
       "      <td>NaN</td>\n",
       "      <td>2017-08-01 16:23:56 +0000</td>\n",
       "      <td>&lt;a href=\"http://twitter.com/download/iphone\" r...</td>\n",
       "      <td>This is Phineas. He's a mystical boy. Only eve...</td>\n",
       "      <td>NaN</td>\n",
       "      <td>NaN</td>\n",
       "      <td>NaN</td>\n",
       "      <td>https://twitter.com/dog_rates/status/892420643...</td>\n",
       "      <td>...</td>\n",
       "      <td>0.097049</td>\n",
       "      <td>False</td>\n",
       "      <td>bagel</td>\n",
       "      <td>0.085851</td>\n",
       "      <td>False</td>\n",
       "      <td>banana</td>\n",
       "      <td>0.076110</td>\n",
       "      <td>False</td>\n",
       "      <td>7512</td>\n",
       "      <td>35537</td>\n",
       "    </tr>\n",
       "    <tr>\n",
       "      <th>1</th>\n",
       "      <td>892177421306343426</td>\n",
       "      <td>NaN</td>\n",
       "      <td>NaN</td>\n",
       "      <td>2017-08-01 00:17:27 +0000</td>\n",
       "      <td>&lt;a href=\"http://twitter.com/download/iphone\" r...</td>\n",
       "      <td>This is Tilly. She's just checking pup on you....</td>\n",
       "      <td>NaN</td>\n",
       "      <td>NaN</td>\n",
       "      <td>NaN</td>\n",
       "      <td>https://twitter.com/dog_rates/status/892177421...</td>\n",
       "      <td>...</td>\n",
       "      <td>0.323581</td>\n",
       "      <td>True</td>\n",
       "      <td>Pekinese</td>\n",
       "      <td>0.090647</td>\n",
       "      <td>True</td>\n",
       "      <td>papillon</td>\n",
       "      <td>0.068957</td>\n",
       "      <td>True</td>\n",
       "      <td>5577</td>\n",
       "      <td>30759</td>\n",
       "    </tr>\n",
       "    <tr>\n",
       "      <th>2</th>\n",
       "      <td>891815181378084864</td>\n",
       "      <td>NaN</td>\n",
       "      <td>NaN</td>\n",
       "      <td>2017-07-31 00:18:03 +0000</td>\n",
       "      <td>&lt;a href=\"http://twitter.com/download/iphone\" r...</td>\n",
       "      <td>This is Archie. He is a rare Norwegian Pouncin...</td>\n",
       "      <td>NaN</td>\n",
       "      <td>NaN</td>\n",
       "      <td>NaN</td>\n",
       "      <td>https://twitter.com/dog_rates/status/891815181...</td>\n",
       "      <td>...</td>\n",
       "      <td>0.716012</td>\n",
       "      <td>True</td>\n",
       "      <td>malamute</td>\n",
       "      <td>0.078253</td>\n",
       "      <td>True</td>\n",
       "      <td>kelpie</td>\n",
       "      <td>0.031379</td>\n",
       "      <td>True</td>\n",
       "      <td>3693</td>\n",
       "      <td>23122</td>\n",
       "    </tr>\n",
       "    <tr>\n",
       "      <th>3</th>\n",
       "      <td>891689557279858688</td>\n",
       "      <td>NaN</td>\n",
       "      <td>NaN</td>\n",
       "      <td>2017-07-30 15:58:51 +0000</td>\n",
       "      <td>&lt;a href=\"http://twitter.com/download/iphone\" r...</td>\n",
       "      <td>This is Darla. She commenced a snooze mid meal...</td>\n",
       "      <td>NaN</td>\n",
       "      <td>NaN</td>\n",
       "      <td>NaN</td>\n",
       "      <td>https://twitter.com/dog_rates/status/891689557...</td>\n",
       "      <td>...</td>\n",
       "      <td>0.170278</td>\n",
       "      <td>False</td>\n",
       "      <td>Labrador_retriever</td>\n",
       "      <td>0.168086</td>\n",
       "      <td>True</td>\n",
       "      <td>spatula</td>\n",
       "      <td>0.040836</td>\n",
       "      <td>False</td>\n",
       "      <td>7701</td>\n",
       "      <td>38837</td>\n",
       "    </tr>\n",
       "    <tr>\n",
       "      <th>4</th>\n",
       "      <td>891327558926688256</td>\n",
       "      <td>NaN</td>\n",
       "      <td>NaN</td>\n",
       "      <td>2017-07-29 16:00:24 +0000</td>\n",
       "      <td>&lt;a href=\"http://twitter.com/download/iphone\" r...</td>\n",
       "      <td>This is Franklin. He would like you to stop ca...</td>\n",
       "      <td>NaN</td>\n",
       "      <td>NaN</td>\n",
       "      <td>NaN</td>\n",
       "      <td>https://twitter.com/dog_rates/status/891327558...</td>\n",
       "      <td>...</td>\n",
       "      <td>0.555712</td>\n",
       "      <td>True</td>\n",
       "      <td>English_springer</td>\n",
       "      <td>0.225770</td>\n",
       "      <td>True</td>\n",
       "      <td>German_short-haired_pointer</td>\n",
       "      <td>0.175219</td>\n",
       "      <td>True</td>\n",
       "      <td>8297</td>\n",
       "      <td>37103</td>\n",
       "    </tr>\n",
       "  </tbody>\n",
       "</table>\n",
       "<p>5 rows × 30 columns</p>\n",
       "</div>"
      ],
      "text/plain": [
       "             tweet_id  in_reply_to_status_id  in_reply_to_user_id  \\\n",
       "0  892420643555336193                    NaN                  NaN   \n",
       "1  892177421306343426                    NaN                  NaN   \n",
       "2  891815181378084864                    NaN                  NaN   \n",
       "3  891689557279858688                    NaN                  NaN   \n",
       "4  891327558926688256                    NaN                  NaN   \n",
       "\n",
       "                   timestamp  \\\n",
       "0  2017-08-01 16:23:56 +0000   \n",
       "1  2017-08-01 00:17:27 +0000   \n",
       "2  2017-07-31 00:18:03 +0000   \n",
       "3  2017-07-30 15:58:51 +0000   \n",
       "4  2017-07-29 16:00:24 +0000   \n",
       "\n",
       "                                              source  \\\n",
       "0  <a href=\"http://twitter.com/download/iphone\" r...   \n",
       "1  <a href=\"http://twitter.com/download/iphone\" r...   \n",
       "2  <a href=\"http://twitter.com/download/iphone\" r...   \n",
       "3  <a href=\"http://twitter.com/download/iphone\" r...   \n",
       "4  <a href=\"http://twitter.com/download/iphone\" r...   \n",
       "\n",
       "                                                text  retweeted_status_id  \\\n",
       "0  This is Phineas. He's a mystical boy. Only eve...                  NaN   \n",
       "1  This is Tilly. She's just checking pup on you....                  NaN   \n",
       "2  This is Archie. He is a rare Norwegian Pouncin...                  NaN   \n",
       "3  This is Darla. She commenced a snooze mid meal...                  NaN   \n",
       "4  This is Franklin. He would like you to stop ca...                  NaN   \n",
       "\n",
       "   retweeted_status_user_id retweeted_status_timestamp  \\\n",
       "0                       NaN                        NaN   \n",
       "1                       NaN                        NaN   \n",
       "2                       NaN                        NaN   \n",
       "3                       NaN                        NaN   \n",
       "4                       NaN                        NaN   \n",
       "\n",
       "                                       expanded_urls    ...      p1_conf  \\\n",
       "0  https://twitter.com/dog_rates/status/892420643...    ...     0.097049   \n",
       "1  https://twitter.com/dog_rates/status/892177421...    ...     0.323581   \n",
       "2  https://twitter.com/dog_rates/status/891815181...    ...     0.716012   \n",
       "3  https://twitter.com/dog_rates/status/891689557...    ...     0.170278   \n",
       "4  https://twitter.com/dog_rates/status/891327558...    ...     0.555712   \n",
       "\n",
       "   p1_dog                  p2   p2_conf p2_dog                           p3  \\\n",
       "0   False               bagel  0.085851  False                       banana   \n",
       "1    True            Pekinese  0.090647   True                     papillon   \n",
       "2    True            malamute  0.078253   True                       kelpie   \n",
       "3   False  Labrador_retriever  0.168086   True                      spatula   \n",
       "4    True    English_springer  0.225770   True  German_short-haired_pointer   \n",
       "\n",
       "    p3_conf p3_dog  retweets favorites  \n",
       "0  0.076110  False      7512     35537  \n",
       "1  0.068957   True      5577     30759  \n",
       "2  0.031379   True      3693     23122  \n",
       "3  0.040836  False      7701     38837  \n",
       "4  0.175219   True      8297     37103  \n",
       "\n",
       "[5 rows x 30 columns]"
      ]
     },
     "execution_count": 13,
     "metadata": {},
     "output_type": "execute_result"
    }
   ],
   "source": [
    "df_tidy.head()"
   ]
  },
  {
   "cell_type": "code",
   "execution_count": 14,
   "metadata": {},
   "outputs": [
    {
     "data": {
      "text/plain": [
       "Index(['tweet_id', 'in_reply_to_status_id', 'in_reply_to_user_id', 'timestamp',\n",
       "       'source', 'text', 'retweeted_status_id', 'retweeted_status_user_id',\n",
       "       'retweeted_status_timestamp', 'expanded_urls', 'rating_numerator',\n",
       "       'rating_denominator', 'name', 'doggo', 'floofer', 'pupper', 'puppo',\n",
       "       'jpg_url', 'img_num', 'p1', 'p1_conf', 'p1_dog', 'p2', 'p2_conf',\n",
       "       'p2_dog', 'p3', 'p3_conf', 'p3_dog', 'retweets', 'favorites'],\n",
       "      dtype='object')"
      ]
     },
     "execution_count": 14,
     "metadata": {},
     "output_type": "execute_result"
    }
   ],
   "source": [
    "df_tidy.columns"
   ]
  },
  {
   "cell_type": "code",
   "execution_count": 15,
   "metadata": {},
   "outputs": [
    {
     "data": {
      "text/plain": [
       "2059"
      ]
     },
     "execution_count": 15,
     "metadata": {},
     "output_type": "execute_result"
    }
   ],
   "source": [
    "len(df_tidy)"
   ]
  },
  {
   "cell_type": "markdown",
   "metadata": {},
   "source": [
    "### 2.2 One column per variable\n",
    "\n",
    "Check mutual exclusivity of `doggo`, `puppo` and `pupper` stages:"
   ]
  },
  {
   "cell_type": "code",
   "execution_count": 16,
   "metadata": {},
   "outputs": [
    {
     "data": {
      "text/plain": [
       "12"
      ]
     },
     "execution_count": 16,
     "metadata": {},
     "output_type": "execute_result"
    }
   ],
   "source": [
    "sum(df_tidy.apply(lambda r: sum([r['doggo'] != 'None',\n",
    "                                 r['pupper'] != 'None',\n",
    "                                 r['puppo'] != 'None']) >= 2, axis=1))"
   ]
  },
  {
   "cell_type": "markdown",
   "metadata": {},
   "source": [
    "Manually investigate why 12 dogs have been given more than one `stage`:"
   ]
  },
  {
   "cell_type": "code",
   "execution_count": 17,
   "metadata": {},
   "outputs": [
    {
     "data": {
      "text/plain": [
       "[\"Here's a puppo participating in the #ScienceMarch. Cleverly disguising her own doggo agenda. 13/10 would keep the planet habitable for https://t.co/cMhq16isel\",\n",
       " 'This is Dido. She\\'s playing the lead role in \"Pupper Stops to Catch Snow Before Resuming Shadow Box with Dried Apple.\" 13/10 (IG: didodoggo) https://t.co/m7isZrOBX7',\n",
       " 'Here we have Burke (pupper) and Dexter (doggo). Pupper wants to be exactly like doggo. Both 12/10 would pet at same time https://t.co/ANBpEYHaho',\n",
       " 'Like doggo, like pupper version 2. Both 11/10 https://t.co/9IxWAXFqze',\n",
       " \"This is Bones. He's being haunted by another doggo of roughly the same size. 12/10 deep breaths pupper everything's fine https://t.co/55Dqe0SJNj\",\n",
       " \"This is Pinot. He's a sophisticated doggo. You can tell by the hat. Also pointier than your average pupper. Still 10/10 would pet cautiously https://t.co/f2wmLZTPHd\",\n",
       " 'RT @dog_rates: Like father (doggo), like son (pupper). Both 12/10 https://t.co/pG2inLaOda',\n",
       " 'RT @dog_rates: This is just downright precious af. 12/10 for both pupper and doggo https://t.co/o5J479bZUC',\n",
       " 'Meet Maggie &amp; Lila. Maggie is the doggo, Lila is the pupper. They are sisters. Both 12/10 would pet at the same time https://t.co/MYwR4DQKll',\n",
       " \"Please stop sending it pictures that don't even have a doggo or pupper in them. Churlish af. 5/10 neat couch tho https://t.co/u2c9c7qSg8\",\n",
       " 'This is just downright precious af. 12/10 for both pupper and doggo https://t.co/o5J479bZUC',\n",
       " 'Like father (doggo), like son (pupper). Both 12/10 https://t.co/pG2inLaOda']"
      ]
     },
     "execution_count": 17,
     "metadata": {},
     "output_type": "execute_result"
    }
   ],
   "source": [
    "df_tidy['multistage'] = df_tidy.apply(\n",
    "                            lambda r: sum([r['doggo'] != 'None',\n",
    "                                           r['pupper'] != 'None',\n",
    "                                           r['puppo'] != 'None']) >= 2, axis=1)\n",
    "\n",
    "df_tidy[df_tidy['multistage']==True]['text'].tolist()"
   ]
  },
  {
   "cell_type": "markdown",
   "metadata": {},
   "source": [
    "On some occasions multiple dogs at different stages are featured in the tweet, and on others, a reference to a stage is conversational rather than relating to the dog. There may be other tweets with multiple dogs, both at the same stage. However, a programmatic analysis of the text to unpick these issues is beyond the scope of this project. As the number of occurences with multiple stages is small, they are excluded from the analysis instead.\n",
    "\n",
    "#### 2.2.1 Assess\n",
    "\n",
    "* The `doggo`, `pupper`, and `puppo` columns all relate to a single, categorical stage variable (`floofer` is related to fluffiness rather than stage so is regarded as a separate variable).\n",
    "* Some tweets refer to more than one stage.\n",
    "\n",
    "#### 2.2.2 Define\n",
    "\n",
    "1. Drop rows containing more than one stage.\n",
    "2. Rename `doggo` to `stage`\n",
    "3. Copy in the value of `pupper` where `stage` is `\"None\"`\n",
    "4. Copy in the value of `puppo` where `stage` is still `\"None\"`\n",
    "5. Drop `pupper`, `puppo` and `multistage` columns.\n",
    "\n",
    "#### 2.2.3 Code"
   ]
  },
  {
   "cell_type": "code",
   "execution_count": 18,
   "metadata": {},
   "outputs": [
    {
     "name": "stdout",
     "output_type": "stream",
     "text": [
      "False    2047\n",
      "Name: multistage, dtype: int64\n"
     ]
    }
   ],
   "source": [
    "to_drop = df_tidy[df_tidy['multistage']==True].index\n",
    "df_tidy.drop(to_drop, inplace=True)\n",
    "print(df_tidy['multistage'].value_counts())\n",
    "\n",
    "df_tidy.rename(columns={'doggo':'stage'}, inplace=True)\n",
    "\n",
    "df_tidy.loc[df_tidy['stage'] == 'None', ['stage']] = df_tidy['pupper']\n",
    "df_tidy.loc[df_tidy['stage'] == 'None', ['stage']] = df_tidy['puppo']\n",
    "\n",
    "df_tidy.drop(columns=['pupper', 'puppo', 'multistage'], inplace=True)"
   ]
  },
  {
   "cell_type": "markdown",
   "metadata": {},
   "source": [
    "#### 2.2.4 Test\n",
    "\n",
    "* Verify that the value count of `multistage` printed above only contains the value `False`.\n",
    "* Count the values in `stage` to ensure all stages are now represented in this column.\n",
    "* Check the list of column names to make sure columns were removed."
   ]
  },
  {
   "cell_type": "code",
   "execution_count": 19,
   "metadata": {},
   "outputs": [
    {
     "data": {
      "text/plain": [
       "None      1748\n",
       "pupper     210\n",
       "doggo       66\n",
       "puppo       23\n",
       "Name: stage, dtype: int64"
      ]
     },
     "execution_count": 19,
     "metadata": {},
     "output_type": "execute_result"
    }
   ],
   "source": [
    "df_tidy['stage'].value_counts()"
   ]
  },
  {
   "cell_type": "code",
   "execution_count": 20,
   "metadata": {},
   "outputs": [
    {
     "data": {
      "text/plain": [
       "Index(['tweet_id', 'in_reply_to_status_id', 'in_reply_to_user_id', 'timestamp',\n",
       "       'source', 'text', 'retweeted_status_id', 'retweeted_status_user_id',\n",
       "       'retweeted_status_timestamp', 'expanded_urls', 'rating_numerator',\n",
       "       'rating_denominator', 'name', 'stage', 'floofer', 'jpg_url', 'img_num',\n",
       "       'p1', 'p1_conf', 'p1_dog', 'p2', 'p2_conf', 'p2_dog', 'p3', 'p3_conf',\n",
       "       'p3_dog', 'retweets', 'favorites'],\n",
       "      dtype='object')"
      ]
     },
     "execution_count": 20,
     "metadata": {},
     "output_type": "execute_result"
    }
   ],
   "source": [
    "df_tidy.columns"
   ]
  },
  {
   "cell_type": "markdown",
   "metadata": {},
   "source": [
    "### 2.3 Retweets and replies\n",
    "\n",
    "Count how many tweets are retweets:"
   ]
  },
  {
   "cell_type": "code",
   "execution_count": 21,
   "metadata": {},
   "outputs": [
    {
     "data": {
      "text/plain": [
       "70"
      ]
     },
     "execution_count": 21,
     "metadata": {},
     "output_type": "execute_result"
    }
   ],
   "source": [
    "df_clean = df_tidy.copy()\n",
    "\n",
    "len(df_clean[df_clean['retweeted_status_id'].notna()])"
   ]
  },
  {
   "cell_type": "markdown",
   "metadata": {},
   "source": [
    "Count how many tweets are replies:"
   ]
  },
  {
   "cell_type": "code",
   "execution_count": 22,
   "metadata": {},
   "outputs": [
    {
     "data": {
      "text/plain": [
       "22"
      ]
     },
     "execution_count": 22,
     "metadata": {},
     "output_type": "execute_result"
    }
   ],
   "source": [
    "len(df_clean[df_clean['in_reply_to_status_id'].notna()])"
   ]
  },
  {
   "cell_type": "markdown",
   "metadata": {},
   "source": [
    "Check the content of the replies to make sure they aren't actually ratings we should include in the analysis:"
   ]
  },
  {
   "cell_type": "code",
   "execution_count": 23,
   "metadata": {},
   "outputs": [
    {
     "data": {
      "text/plain": [
       "['Ladies and gentlemen... I found Pipsy. He may have changed his name to Pablo, but he never changed his love for the sea. Pupgraded to 14/10 https://t.co/lVU5GyNFen',\n",
       " 'THIS IS CHARLIE, MARK. HE DID JUST WANT TO SAY HI AFTER ALL. PUPGRADED TO A 14/10. WOULD BE AN HONOR TO FLY WITH https://t.co/p1hBHCmWnA',\n",
       " \"PUPDATE: I'm proud to announce that Toby is 236 days sober. Pupgraded to a 13/10. We're all very proud of you, Toby https://t.co/a5OaJeRl9B\",\n",
       " \"PUPDATE: can't see any. Even if I could, I couldn't reach them to pet. 0/10 much disappointment https://t.co/c7WXaB2nqX\",\n",
       " 'Guys... Dog Jesus 2.0\\n13/10 buoyant af https://t.co/CuNA7OwfKQ',\n",
       " '\"Challenge completed\" \\n(pupgraded to 12/10) https://t.co/85dTK7XCXB',\n",
       " 'Seriously, add us 🐶 11/10 for sad wet pupper https://t.co/xwPE9faVZR',\n",
       " 'I found a forest Pipsy. 12/10 https://t.co/mIQ1KoVsmU',\n",
       " 'Really guys? Again? I know this is a rare Albanian Bingo Seal, but we only rate dogs. Only send in dogs... 9/10 https://t.co/6JYLpUmBrC',\n",
       " 'If you are aware of who is making these please let me know. 13/10 vroom vroom https://t.co/U0D1sbIDrG',\n",
       " 'This pupper only appears through the hole of a Funyun. Much like Phineas, this one is also mysterious af. 10/10 https://t.co/SQsEBWxPyG',\n",
       " 'These are some pictures of Teddy that further justify his 13/10 rating. Please enjoy https://t.co/tDkJAnQsbQ',\n",
       " \"After watching this video, we've determined that Pippa will be upgraded to a 12/10. Please enjoy https://t.co/IKoRK4yoxV\",\n",
       " 'Two sneaky puppers were not initially seen, moving the rating to 143/130. Please forgive us. Thank you https://t.co/kRK51Y5ac3',\n",
       " '&amp; this is Yoshi. Another world record contender 11/10 (what the hell is happening why are there so many contenders?) https://t.co/QG708dDNH6',\n",
       " \"We've got ourselves a battle here. Watch out Reggie. 11/10 https://t.co/ALJvbtcwf0\",\n",
       " \"Yea I lied. Here's more. All 13/10 https://t.co/ZQZf2U4xCP\",\n",
       " 'Ok last one of these. I may try to make some myself. Anyway here ya go. 13/10 https://t.co/i9CDd1oEu8',\n",
       " 'I have found another. 13/10 https://t.co/HwroPYv8pY',\n",
       " 'Just received another perfect photo of dogs and the sunset. 12/10 https://t.co/9YmNcxA2Cc',\n",
       " \"I'm just going to leave this one here as well. 13/10 https://t.co/DaD5SyajWt\",\n",
       " 'This is Tessa. She is also very pleased after finally meeting her biological father. 10/10 https://t.co/qDS1aCqppv']"
      ]
     },
     "execution_count": 23,
     "metadata": {},
     "output_type": "execute_result"
    }
   ],
   "source": [
    "df_clean[df_clean['in_reply_to_user_id'].notna()]['text'].tolist()"
   ]
  },
  {
   "cell_type": "markdown",
   "metadata": {},
   "source": [
    "These replies are mostly invalid for the analysis, and analysing the text to determine which are valid is beyond the scope of this project, so replies are excluded from the analysis.\n",
    "\n",
    "#### 2.3.1 Assess\n",
    "\n",
    "The tweets aren't all original tweets - 70 are retweets and 22 are replies.\n",
    "\n",
    "#### 2.3.2 Define\n",
    "\n",
    "1. Drop rows where `retweeted_status_id` or `in_reply_to_status_id` is not `NaN`\n",
    "2. Drop the `retweeted_status_id`, `retweeted_status_user_id`, `retweeted_status_timestamp`, `in_reply_to_status_id`, and `in_reply_to_user_id` columns\n",
    "\n",
    "#### 2.3.3 Code"
   ]
  },
  {
   "cell_type": "code",
   "execution_count": 24,
   "metadata": {},
   "outputs": [
    {
     "name": "stdout",
     "output_type": "stream",
     "text": [
      "Retweets Series([], Name: retweeted_status_id, dtype: int64)\n",
      "Replies Series([], Name: in_reply_to_status_id, dtype: int64)\n"
     ]
    }
   ],
   "source": [
    "to_drop = df_clean[df_clean['retweeted_status_id'].notna() | \n",
    "                   df_clean['in_reply_to_status_id'].notna()].index\n",
    "df_clean.drop(to_drop, inplace=True)\n",
    "print(f'Retweets {df_clean[\"retweeted_status_id\"].value_counts()}')\n",
    "print(f'Replies {df_clean[\"in_reply_to_status_id\"].value_counts()}')\n",
    "df_clean.drop(columns=['retweeted_status_id', 'retweeted_status_user_id',\n",
    "               'retweeted_status_timestamp', 'in_reply_to_status_id',\n",
    "               'in_reply_to_user_id'], inplace=True)"
   ]
  },
  {
   "cell_type": "markdown",
   "metadata": {},
   "source": [
    "#### 2.3.4 Test\n",
    "\n",
    "* Verify that the value counts for Retweets and Replies printed above are empty series.\n",
    "* Check the list of column names to make sure columns were removed."
   ]
  },
  {
   "cell_type": "code",
   "execution_count": 25,
   "metadata": {},
   "outputs": [
    {
     "data": {
      "text/plain": [
       "Index(['tweet_id', 'timestamp', 'source', 'text', 'expanded_urls',\n",
       "       'rating_numerator', 'rating_denominator', 'name', 'stage', 'floofer',\n",
       "       'jpg_url', 'img_num', 'p1', 'p1_conf', 'p1_dog', 'p2', 'p2_conf',\n",
       "       'p2_dog', 'p3', 'p3_conf', 'p3_dog', 'retweets', 'favorites'],\n",
       "      dtype='object')"
      ]
     },
     "execution_count": 25,
     "metadata": {},
     "output_type": "execute_result"
    }
   ],
   "source": [
    "df_clean.columns"
   ]
  },
  {
   "cell_type": "markdown",
   "metadata": {},
   "source": [
    "### 2.4 Missing/inaccurate names\n",
    "\n",
    "Check the value counts of the names column:"
   ]
  },
  {
   "cell_type": "code",
   "execution_count": 26,
   "metadata": {},
   "outputs": [
    {
     "data": {
      "text/plain": [
       "None        520\n",
       "a            55\n",
       "Cooper       10\n",
       "Oliver       10\n",
       "Charlie      10\n",
       "Penny         9\n",
       "Lucy          9\n",
       "Tucker        9\n",
       "Winston       8\n",
       "Sadie         8\n",
       "Toby          7\n",
       "Daisy         7\n",
       "the           7\n",
       "Lola          7\n",
       "Bo            6\n",
       "Jax           6\n",
       "Stanley       6\n",
       "Koda          6\n",
       "an            6\n",
       "Bella         6\n",
       "Leo           5\n",
       "Louis         5\n",
       "Bailey        5\n",
       "Buddy         5\n",
       "Scout         5\n",
       "Dave          5\n",
       "Milo          5\n",
       "Oscar         5\n",
       "Rusty         5\n",
       "Chester       5\n",
       "           ... \n",
       "Kloey         1\n",
       "Boots         1\n",
       "Cilantro      1\n",
       "Tyrone        1\n",
       "by            1\n",
       "Carly         1\n",
       "Stark         1\n",
       "Shikha        1\n",
       "Tiger         1\n",
       "Mona          1\n",
       "Hazel         1\n",
       "Bell          1\n",
       "Jay           1\n",
       "Billy         1\n",
       "Theo          1\n",
       "Mitch         1\n",
       "Meyer         1\n",
       "Mimosa        1\n",
       "Ralphé        1\n",
       "Kevon         1\n",
       "Keet          1\n",
       "Torque        1\n",
       "Kingsley      1\n",
       "Harper        1\n",
       "Dunkin        1\n",
       "Sparky        1\n",
       "Quinn         1\n",
       "Al            1\n",
       "Kallie        1\n",
       "Caryl         1\n",
       "Name: name, Length: 930, dtype: int64"
      ]
     },
     "execution_count": 26,
     "metadata": {},
     "output_type": "execute_result"
    }
   ],
   "source": [
    "df_clean['name'].value_counts()"
   ]
  },
  {
   "cell_type": "markdown",
   "metadata": {},
   "source": [
    "Check a sample where the name is `'None'`:"
   ]
  },
  {
   "cell_type": "code",
   "execution_count": 27,
   "metadata": {},
   "outputs": [
    {
     "data": {
      "text/plain": [
       "['Here we have Pancho and Peaches. Pancho is a Condoleezza Gryffindor, and Peaches is just an asshole. 10/10 &amp; 7/10 https://t.co/Lh1BsJrWPp',\n",
       " '\"Challenge accepted\"\\n10/10 https://t.co/vNjvr5Bl9u',\n",
       " \"We only rate dogs. Please don't send in any non-canines like this Floppy Tongued House Panda. Thank you... 12/10 would still pet https://t.co/8fX2VkExnL\",\n",
       " 'I shall call him squishy and he shall be mine, and he shall be my squishy. 13/10 https://t.co/WId5lxNdPH',\n",
       " \"This pup was carefully tossed to make it look like she's riding that horse. I have no words this is fabulous. 12/10 https://t.co/Bob33W4sfD\"]"
      ]
     },
     "execution_count": 27,
     "metadata": {},
     "output_type": "execute_result"
    }
   ],
   "source": [
    "df_clean[df_clean['name']=='None']['text'].sample(5).tolist()"
   ]
  },
  {
   "cell_type": "markdown",
   "metadata": {},
   "source": [
    "After checking many samples, it seems that where no name is detected, a high proportion of the tweets relate to invalid tweets for the analysis, such as other animals, or multiple dogs.\n",
    "\n",
    "Check a sample where the name is `'a'` or `'an'` or `'the'`:"
   ]
  },
  {
   "cell_type": "code",
   "execution_count": 28,
   "metadata": {},
   "outputs": [
    {
     "data": {
      "text/plain": [
       "[\"This is the best thing I've ever seen so spread it like wildfire &amp; maybe we'll find the genius who created it. 13/10 https://t.co/q6RsuOVYwU\",\n",
       " 'This is a carrot. We only rate dogs. Please only send in dogs. You all really should know this by now ...11/10 https://t.co/9e48aPrBm2',\n",
       " 'This is a purebred Bacardi named Octaviath. Can shoot spaghetti out of mouth. 10/10 https://t.co/uEvsGLOFHa',\n",
       " 'Stop sending in lobsters. This is the final warning. We only rate dogs. Thank you... 9/10 https://t.co/B9ZXXKJYNx',\n",
       " \"This is a funny dog. Weird toes. Won't come down. Loves branch. Refuses to eat his food. Hard to cuddle with. 3/10 https://t.co/IIXis0zta0\"]"
      ]
     },
     "execution_count": 28,
     "metadata": {},
     "output_type": "execute_result"
    }
   ],
   "source": [
    "names = ['a', 'an', 'the']\n",
    "df_clean[df_clean['name'].isin(names)]['text'] \\\n",
    "        .sample(5).tolist()"
   ]
  },
  {
   "cell_type": "markdown",
   "metadata": {},
   "source": [
    "After checking many samples, where the name is `'a'` or `'an'` or `'the'` the tweet is usually valid for the analysis, but sometimes not, for example being about another animal.\n",
    "\n",
    "Analysing the text to determine which tweets with undetected or incorrect name are valid for the analysis is beyond the scope of this project, so these tweets are excluded from the analysis."
   ]
  },
  {
   "cell_type": "markdown",
   "metadata": {},
   "source": [
    "#### 2.4.1 Assess\n",
    "\n",
    "* Some tweets have no dog name detected.\n",
    "* Some tweets have an incorrect dog name i.e. `'a'`, `'an'` or `'the'`\n",
    "\n",
    "#### 2.4.2 Define\n",
    "\n",
    "Drop rows where `name` is `'None'`, `'a'`, `'an'` or `'the'`\n",
    "\n",
    "#### 2.4.3 Code"
   ]
  },
  {
   "cell_type": "code",
   "execution_count": 29,
   "metadata": {},
   "outputs": [],
   "source": [
    "names = ['None', 'a', 'an', 'the']\n",
    "to_drop = df_clean[df_clean['name'].isin(names)].index\n",
    "df_clean.drop(to_drop, inplace=True)"
   ]
  },
  {
   "cell_type": "markdown",
   "metadata": {},
   "source": [
    "#### 2.4.4 Test\n",
    "\n",
    "Check the value counts for the `name` column."
   ]
  },
  {
   "cell_type": "code",
   "execution_count": 30,
   "metadata": {},
   "outputs": [
    {
     "data": {
      "text/plain": [
       "Cooper      10\n",
       "Charlie     10\n",
       "Oliver      10\n",
       "Penny        9\n",
       "Lucy         9\n",
       "Tucker       9\n",
       "Winston      8\n",
       "Sadie        8\n",
       "Daisy        7\n",
       "Lola         7\n",
       "Toby         7\n",
       "Stanley      6\n",
       "Jax          6\n",
       "Bella        6\n",
       "Koda         6\n",
       "Bo           6\n",
       "Milo         5\n",
       "Rusty        5\n",
       "Chester      5\n",
       "Buddy        5\n",
       "Oscar        5\n",
       "Louis        5\n",
       "Dave         5\n",
       "Scout        5\n",
       "Bailey       5\n",
       "Leo          5\n",
       "Bentley      4\n",
       "Archie       4\n",
       "Oakley       4\n",
       "Clark        4\n",
       "            ..\n",
       "by           1\n",
       "Kollin       1\n",
       "Taco         1\n",
       "Einstein     1\n",
       "Kona         1\n",
       "Jordy        1\n",
       "Tripp        1\n",
       "Obi          1\n",
       "Torque       1\n",
       "Jay          1\n",
       "Billy        1\n",
       "Theo         1\n",
       "Mitch        1\n",
       "Meyer        1\n",
       "Mimosa       1\n",
       "Tiger        1\n",
       "Ralphé       1\n",
       "Keet         1\n",
       "Kingsley     1\n",
       "Carly        1\n",
       "Harper       1\n",
       "Dunkin       1\n",
       "Sparky       1\n",
       "Quinn        1\n",
       "Al           1\n",
       "Kallie       1\n",
       "Kevon        1\n",
       "Shikha       1\n",
       "Stark        1\n",
       "Caryl        1\n",
       "Name: name, Length: 926, dtype: int64"
      ]
     },
     "execution_count": 30,
     "metadata": {},
     "output_type": "execute_result"
    }
   ],
   "source": [
    "df_clean['name'].value_counts()"
   ]
  },
  {
   "cell_type": "markdown",
   "metadata": {},
   "source": [
    "### 2.5 Inaccurate rating denominators\n",
    "\n",
    "Check value counts for `rating_denominator`:"
   ]
  },
  {
   "cell_type": "code",
   "execution_count": 31,
   "metadata": {},
   "outputs": [
    {
     "data": {
      "text/plain": [
       "10     1363\n",
       "170       1\n",
       "50        1\n",
       "11        1\n",
       "7         1\n",
       "Name: rating_denominator, dtype: int64"
      ]
     },
     "execution_count": 31,
     "metadata": {},
     "output_type": "execute_result"
    }
   ],
   "source": [
    "df_clean['rating_denominator'].value_counts()"
   ]
  },
  {
   "cell_type": "markdown",
   "metadata": {},
   "source": [
    "Check tweets where `rating_denominator` is not 10:"
   ]
  },
  {
   "cell_type": "code",
   "execution_count": 32,
   "metadata": {},
   "outputs": [
    {
     "data": {
      "text/plain": [
       "['Meet Sam. She smiles 24/7 &amp; secretly aspires to be a reindeer. \\nKeep Sam smiling by clicking and sharing this link:\\nhttps://t.co/98tB8y7y7t https://t.co/LouL5vdvxx',\n",
       " 'Say hello to this unbelievably well behaved squad of doggos. 204/170 would try to pet all at once https://t.co/yGQI3He3xv',\n",
       " 'This is Bluebert. He just saw that both #FinalFur match ups are split 50/50. Amazed af. 11/10 https://t.co/Kky1DPG4iq',\n",
       " 'This is Darrel. He just robbed a 7/11 and is in a high speed police chase. Was just spotted by the helicopter 10/10 https://t.co/7EsP8LmSp5']"
      ]
     },
     "execution_count": 32,
     "metadata": {},
     "output_type": "execute_result"
    }
   ],
   "source": [
    "df_clean[df_clean['rating_denominator']!=10]['text'].tolist()"
   ]
  },
  {
   "cell_type": "markdown",
   "metadata": {},
   "source": [
    "The first two don't contain a valid rating and are excluded from analysis. The last two can be manually corrected.\n",
    "\n",
    "#### 2.5.1 Assess\n",
    "\n",
    "* Some tweets with `rating_denominator != 10` are invalid for the analysis\n",
    "* Some tweets with `rating_denominator != 10` have inaccurate but correctable ratings\n",
    "\n",
    "#### 2.5.2 Define\n",
    "\n",
    "1. Drop rows with `rating_denominator`s of `170` and `50`\n",
    "2. Correct ratings for rows with `rating_denominator`s of `11` and `7`\n",
    "\n",
    "#### 2.5.3 Code"
   ]
  },
  {
   "cell_type": "code",
   "execution_count": 33,
   "metadata": {},
   "outputs": [],
   "source": [
    "to_drop = df_clean[df_clean['rating_denominator'].isin([7, 170])].index\n",
    "df_clean.drop(to_drop, inplace=True)\n",
    "\n",
    "df_clean.loc[df_clean['rating_denominator']==50,\n",
    "             ['rating_numerator', 'rating_denominator']] = [11, 10]\n",
    "\n",
    "df_clean.loc[df_clean['rating_denominator']==11,\n",
    "             ['rating_numerator', 'rating_denominator']] = [10, 10]"
   ]
  },
  {
   "cell_type": "markdown",
   "metadata": {},
   "source": [
    "#### 2.5.4 Test\n",
    "\n",
    "Verify that there are no longer any rows with `rating_denominator` of 7, 11, 50 or 170."
   ]
  },
  {
   "cell_type": "code",
   "execution_count": 34,
   "metadata": {},
   "outputs": [
    {
     "data": {
      "text/plain": [
       "0"
      ]
     },
     "execution_count": 34,
     "metadata": {},
     "output_type": "execute_result"
    }
   ],
   "source": [
    "df_clean['rating_denominator'].isin([7, 11, 50, 170]).sum()"
   ]
  },
  {
   "cell_type": "markdown",
   "metadata": {},
   "source": [
    "### 2.6 Inacurrate rating numerators\n",
    "\n",
    "Having seen a tweet mentioning \"our first ever 14/10\" check tweets where `rating_numerator` is greater than 14:"
   ]
  },
  {
   "cell_type": "code",
   "execution_count": 35,
   "metadata": {},
   "outputs": [
    {
     "data": {
      "text/plain": [
       "[\"This is Logan, the Chow who lived. He solemnly swears he's up to lots of good. H*ckin magical af 9.75/10 https://t.co/yBO5wuqaPS\",\n",
       " \"This is Sophie. She's a Jubilant Bush Pupper. Super h*ckin rare. Appears at random just to smile at the locals. 11.27/10 would smile back https://t.co/QFaUiIHxHq\",\n",
       " \"This is Atticus. He's quite simply America af. 1776/10 https://t.co/GRXwMxLBkh\"]"
      ]
     },
     "execution_count": 35,
     "metadata": {},
     "output_type": "execute_result"
    }
   ],
   "source": [
    "df_clean[df_clean['rating_numerator']>14]['text'].tolist()"
   ]
  },
  {
   "cell_type": "markdown",
   "metadata": {},
   "source": [
    "The first two instances could be rounded to the nearest integer for analysis. The last instance looks correct and deliberate, but is such a distant outlier it would potentially skew any analysis. Changing this rating to 15/10 would retain the dog's number one rank while allowing analysis to proceed meaningfully.\n",
    "\n",
    "#### 2.6.1 Assess\n",
    "\n",
    "* Two numerators are inaccurate due to decimals in the tweet text.\n",
    "* One numerator is a distant outlier.\n",
    "\n",
    "#### 2.6.2 Define\n",
    "\n",
    "1. Round the decimal numerators to the nearest integer and update `rating_numerator`.\n",
    "2. Reduce the outlier numerator to 15 and update `rating_numerator`.\n",
    "\n",
    "#### 2.6.3 Code"
   ]
  },
  {
   "cell_type": "code",
   "execution_count": 36,
   "metadata": {},
   "outputs": [],
   "source": [
    "df_clean.loc[df_clean['rating_numerator']==75, 'rating_numerator'] = 10\n",
    "df_clean.loc[df_clean['rating_numerator']==27, 'rating_numerator'] = 11\n",
    "df_clean.loc[df_clean['rating_numerator']==1776, 'rating_numerator'] = 15"
   ]
  },
  {
   "cell_type": "markdown",
   "metadata": {},
   "source": [
    "#### 2.6.4 Test\n",
    "\n",
    "Verify that only one `rating_numerator` is greater than 14, and this is 15."
   ]
  },
  {
   "cell_type": "code",
   "execution_count": 37,
   "metadata": {},
   "outputs": [
    {
     "data": {
      "text/plain": [
       "789    15\n",
       "Name: rating_numerator, dtype: int64"
      ]
     },
     "execution_count": 37,
     "metadata": {},
     "output_type": "execute_result"
    }
   ],
   "source": [
    "df_clean[df_clean['rating_numerator']>14]['rating_numerator']"
   ]
  },
  {
   "cell_type": "markdown",
   "metadata": {},
   "source": [
    "### 2.7 Incorrect datatypes\n",
    "\n",
    "Check the datatype of each column:"
   ]
  },
  {
   "cell_type": "code",
   "execution_count": 38,
   "metadata": {},
   "outputs": [
    {
     "name": "stdout",
     "output_type": "stream",
     "text": [
      "<class 'pandas.core.frame.DataFrame'>\n",
      "Int64Index: 1365 entries, 0 to 2029\n",
      "Data columns (total 23 columns):\n",
      "tweet_id              1365 non-null int64\n",
      "timestamp             1365 non-null object\n",
      "source                1365 non-null object\n",
      "text                  1365 non-null object\n",
      "expanded_urls         1365 non-null object\n",
      "rating_numerator      1365 non-null int64\n",
      "rating_denominator    1365 non-null int64\n",
      "name                  1365 non-null object\n",
      "stage                 1365 non-null object\n",
      "floofer               1365 non-null object\n",
      "jpg_url               1365 non-null object\n",
      "img_num               1365 non-null int64\n",
      "p1                    1365 non-null object\n",
      "p1_conf               1365 non-null float64\n",
      "p1_dog                1365 non-null bool\n",
      "p2                    1365 non-null object\n",
      "p2_conf               1365 non-null float64\n",
      "p2_dog                1365 non-null bool\n",
      "p3                    1365 non-null object\n",
      "p3_conf               1365 non-null float64\n",
      "p3_dog                1365 non-null bool\n",
      "retweets              1365 non-null int64\n",
      "favorites             1365 non-null int64\n",
      "dtypes: bool(3), float64(3), int64(6), object(11)\n",
      "memory usage: 227.9+ KB\n"
     ]
    }
   ],
   "source": [
    "df_clean.info()"
   ]
  },
  {
   "cell_type": "markdown",
   "metadata": {},
   "source": [
    "#### 2.7.1 Assess\n",
    "\n",
    "* `timestamp` is a string rather than a datetime.\n",
    "* `stage` is a string rather than a category.\n",
    "* `floofer` is a string rather than a boolean.\n",
    "\n",
    "#### 2.7.2 Define\n",
    "\n",
    "1. Convert `timestamp` to a datetime.\n",
    "2. Convert `stage` to a category.\n",
    "3. Convert `floofer` to a boolean.\n",
    "\n",
    "#### 2.7.3 Code"
   ]
  },
  {
   "cell_type": "code",
   "execution_count": 39,
   "metadata": {},
   "outputs": [],
   "source": [
    "df_clean['timestamp'] = pd.to_datetime(df_clean['timestamp'])\n",
    "df_clean['stage'] = df_clean['stage'].astype('category')\n",
    "\n",
    "floof = {'floofer':True, 'None':False}\n",
    "df_clean['floofer'] = df_clean['floofer'].map(floof)"
   ]
  },
  {
   "cell_type": "markdown",
   "metadata": {},
   "source": [
    "#### 2.7.4 Test\n",
    "\n",
    "Check the datatypes again."
   ]
  },
  {
   "cell_type": "code",
   "execution_count": 40,
   "metadata": {},
   "outputs": [
    {
     "name": "stdout",
     "output_type": "stream",
     "text": [
      "<class 'pandas.core.frame.DataFrame'>\n",
      "Int64Index: 1365 entries, 0 to 2029\n",
      "Data columns (total 23 columns):\n",
      "tweet_id              1365 non-null int64\n",
      "timestamp             1365 non-null datetime64[ns]\n",
      "source                1365 non-null object\n",
      "text                  1365 non-null object\n",
      "expanded_urls         1365 non-null object\n",
      "rating_numerator      1365 non-null int64\n",
      "rating_denominator    1365 non-null int64\n",
      "name                  1365 non-null object\n",
      "stage                 1365 non-null category\n",
      "floofer               1365 non-null bool\n",
      "jpg_url               1365 non-null object\n",
      "img_num               1365 non-null int64\n",
      "p1                    1365 non-null object\n",
      "p1_conf               1365 non-null float64\n",
      "p1_dog                1365 non-null bool\n",
      "p2                    1365 non-null object\n",
      "p2_conf               1365 non-null float64\n",
      "p2_dog                1365 non-null bool\n",
      "p3                    1365 non-null object\n",
      "p3_conf               1365 non-null float64\n",
      "p3_dog                1365 non-null bool\n",
      "retweets              1365 non-null int64\n",
      "favorites             1365 non-null int64\n",
      "dtypes: bool(4), category(1), datetime64[ns](1), float64(3), int64(6), object(8)\n",
      "memory usage: 209.5+ KB\n"
     ]
    }
   ],
   "source": [
    "df_clean.info()"
   ]
  },
  {
   "cell_type": "markdown",
   "metadata": {},
   "source": [
    "### 2.8 Unneeded columns\n",
    "\n",
    "Check the list of columns:"
   ]
  },
  {
   "cell_type": "code",
   "execution_count": 41,
   "metadata": {},
   "outputs": [
    {
     "data": {
      "text/plain": [
       "Index(['tweet_id', 'timestamp', 'source', 'text', 'expanded_urls',\n",
       "       'rating_numerator', 'rating_denominator', 'name', 'stage', 'floofer',\n",
       "       'jpg_url', 'img_num', 'p1', 'p1_conf', 'p1_dog', 'p2', 'p2_conf',\n",
       "       'p2_dog', 'p3', 'p3_conf', 'p3_dog', 'retweets', 'favorites'],\n",
       "      dtype='object')"
      ]
     },
     "execution_count": 41,
     "metadata": {},
     "output_type": "execute_result"
    }
   ],
   "source": [
    "df_clean.columns"
   ]
  },
  {
   "cell_type": "markdown",
   "metadata": {},
   "source": [
    "#### 2.8.1 Assess\n",
    "\n",
    "The following columns are not needed for the analysis: `source`, `expanded_urls`, `jpg_url` and `rating_denominator`.\n",
    "\n",
    "#### 2.8.2 Define\n",
    "\n",
    "Drop the columns `source`, `expanded_urls`, `jpg_url` and `rating_denominator`.\n",
    "\n",
    "#### 2.8.3 Code"
   ]
  },
  {
   "cell_type": "code",
   "execution_count": 42,
   "metadata": {},
   "outputs": [],
   "source": [
    "df_clean.drop(columns=['source', 'expanded_urls',\n",
    "                       'jpg_url', 'rating_denominator'], inplace=True)"
   ]
  },
  {
   "cell_type": "markdown",
   "metadata": {},
   "source": [
    "#### 2.8.4 Test\n",
    "\n",
    "Check the list of columns."
   ]
  },
  {
   "cell_type": "code",
   "execution_count": 43,
   "metadata": {},
   "outputs": [
    {
     "data": {
      "text/plain": [
       "Index(['tweet_id', 'timestamp', 'text', 'rating_numerator', 'name', 'stage',\n",
       "       'floofer', 'img_num', 'p1', 'p1_conf', 'p1_dog', 'p2', 'p2_conf',\n",
       "       'p2_dog', 'p3', 'p3_conf', 'p3_dog', 'retweets', 'favorites'],\n",
       "      dtype='object')"
      ]
     },
     "execution_count": 43,
     "metadata": {},
     "output_type": "execute_result"
    }
   ],
   "source": [
    "df_clean.columns"
   ]
  },
  {
   "cell_type": "markdown",
   "metadata": {},
   "source": [
    "### 2.9 False negatives from image predictions"
   ]
  },
  {
   "cell_type": "markdown",
   "metadata": {},
   "source": [
    "Check how often the image predications all say it's not a dog:"
   ]
  },
  {
   "cell_type": "code",
   "execution_count": 44,
   "metadata": {},
   "outputs": [
    {
     "data": {
      "text/plain": [
       "168"
      ]
     },
     "execution_count": 44,
     "metadata": {},
     "output_type": "execute_result"
    }
   ],
   "source": [
    "len(df_clean[(df_clean['p1_dog']==False) & \n",
    "             (df_clean['p2_dog']==False) &\n",
    "             (df_clean['p3_dog']==False)])"
   ]
  },
  {
   "cell_type": "markdown",
   "metadata": {},
   "source": [
    "Check how often tweets are invalid for analysis when the image predications all say it's not a dog:"
   ]
  },
  {
   "cell_type": "code",
   "execution_count": 45,
   "metadata": {},
   "outputs": [
    {
     "data": {
      "text/plain": [
       "[\"This is Archie. He's a Bisquick Taj Mapaw. Too many people are touching him. It is doing him a discomfort. 10/10 https://t.co/CJJpjTMzPQ\",\n",
       " 'This is Mia. She was specifically told not get on top of the hutch or play in the fridge. 10/10 what a rebel https://t.co/3J7wkwW4FG',\n",
       " \"This is Chesterson. He's a Bolivian Scoop Dog. Incredibly portable. Can't bark for shit tho. 7/10 would still pet https://t.co/EatAd8JhyW\",\n",
       " \"This is Louis. He's crossing. It's a big deal. 13/10 h*ckin breathtaking https://t.co/D0wb1GlKAt\",\n",
       " \"This is Brockly. He's an uber driver. Falls asleep at the wheel often. Irresponsible af 8/10 would totally still pet https://t.co/fn1oUlS69Z\"]"
      ]
     },
     "execution_count": 45,
     "metadata": {},
     "output_type": "execute_result"
    }
   ],
   "source": [
    "df_clean[(df_clean['p1_dog']==False) & \n",
    "             (df_clean['p2_dog']==False) &\n",
    "             (df_clean['p3_dog']==False)].sample(5)['text'].tolist()"
   ]
  },
  {
   "cell_type": "markdown",
   "metadata": {},
   "source": [
    "After checking many samples, no invalid tweet has been found. No cleaning action is necessary, but this is noted for completeness."
   ]
  },
  {
   "cell_type": "markdown",
   "metadata": {},
   "source": [
    "### 2.10 Summary\n",
    "\n",
    "The following issues were discovered and cleaned:\n",
    "\n",
    "#### 2.10.1 Tidiness\n",
    "\n",
    "* The data was split across three dataframes but they all related to one type of observational unit. The dataframes were merged.\n",
    "* The `doggo`, `pupper`, and `puppo` columns all related to a single, categorical `stage` variable (`floofer` relates to fluffiness rather than stage so was regarded as a separate variable). This information was collated into a single `stage` column.\n",
    "\n",
    "#### 2.10.2 Quality\n",
    "\n",
    "* Data for 297 tweets was missing from one or more dataframes. These tweets were removed.\n",
    "* 12 tweets contained references to multiple stages i.e. `doggo`, `pupper`, `puppo`. These tweets were removed.\n",
    "* The tweets weren't all original tweets - 70 were retweets and 22 were replies. These tweets were removed.\n",
    "* Names were not always detected and this often indicated a tweet that didn't rate a single dog. These tweets were removed.\n",
    "* Detected names were not always accurate - sometimes being picked up as `'a'`, `'an'` or `'the'`. This sometimes indicated a tweet that didn't rate a single dog. These tweets were removed.\n",
    "* Rating denominators were not always accurate. Ratings were corrected where tweets were valid for the analysis, and otherwise were removed.\n",
    "* Rating numerator were not always accurate due to decimals used in the tweet. Ratings were rounded to the nearest integer.\n",
    "* One outlier numerator of 1776 was present. This was reduced to 15, preserving the dog's number one rank within the data.\n",
    "* `timestamp` was a string rather than a datetime. It was converted.\n",
    "* `stage` was a string rather than a category. It was converted.\n",
    "* `floofer` was a string rather than a boolean. It was converted.\n",
    "* The columns `source`, `expanded_urls`, `jpg_url` and `rating_denominator` were not needed for analysis. These columns were removed.\n"
   ]
  },
  {
   "cell_type": "markdown",
   "metadata": {},
   "source": [
    "## 3 Store data"
   ]
  },
  {
   "cell_type": "code",
   "execution_count": 46,
   "metadata": {},
   "outputs": [],
   "source": [
    "df_clean.to_csv('twitter_archive_master.csv')"
   ]
  },
  {
   "cell_type": "markdown",
   "metadata": {},
   "source": [
    "## 4 Analyze data\n",
    "\n",
    "### 4.1 Is there a correlation between rating and favorites?\n",
    "\n",
    "First, plot a scatterplot of rating against favorites for a quick visual assessment:"
   ]
  },
  {
   "cell_type": "code",
   "execution_count": 47,
   "metadata": {},
   "outputs": [
    {
     "data": {
      "image/png": "[encoded data removed]",
      "text/plain": [
       "<matplotlib.figure.Figure at 0x7f5629915f98>"
      ]
     },
     "metadata": {
      "needs_background": "light"
     },
     "output_type": "display_data"
    }
   ],
   "source": [
    "plt.scatter(df_clean['rating_numerator'], df_clean['favorites'], alpha=0.5)\n",
    "plt.title('WeRateDogs Tweets:\\nDog Rating vs Number of Favorites', fontsize=16)\n",
    "plt.xlabel('Rating (out of 10)', fontsize=12)\n",
    "plt.ylabel('Number of favorites', fontsize=12);"
   ]
  },
  {
   "cell_type": "markdown",
   "metadata": {},
   "source": [
    "From the graph above it does seem that the most favorited tweets are for highly rated dogs, but it's difficult to see what's going on for the least favorited tweets.\n",
    "\n",
    "Try taking log of the number of favorites:"
   ]
  },
  {
   "cell_type": "code",
   "execution_count": 48,
   "metadata": {},
   "outputs": [
    {
     "data": {
      "image/png": "[encoded data removed]",
      "text/plain": [
       "<matplotlib.figure.Figure at 0x7f5629593cc0>"
      ]
     },
     "metadata": {
      "needs_background": "light"
     },
     "output_type": "display_data"
    }
   ],
   "source": [
    "plt.scatter(df_clean['rating_numerator'], np.log(df_clean['favorites']), alpha=0.5)\n",
    "plt.title('WeRateDogs Tweets:\\nDog Rating vs Log Number of Favorites', fontsize=16)\n",
    "plt.xlabel('Rating (out of 10)', fontsize=12)\n",
    "plt.ylabel('Log Number of favorites', fontsize=12);"
   ]
  },
  {
   "cell_type": "markdown",
   "metadata": {},
   "source": [
    "Now we can clearly see that above 10/10, a higher rating is correlated with more favorites. Below 10/10, it looks possible that the rating doesn't make much difference."
   ]
  },
  {
   "cell_type": "markdown",
   "metadata": {},
   "source": [
    "### 4.2 Which stage dogs get the best and worst ratings on average?\n",
    "\n",
    "Plot boxplots of rating grouped by stage:"
   ]
  },
  {
   "cell_type": "code",
   "execution_count": 49,
   "metadata": {},
   "outputs": [
    {
     "data": {
      "image/png": "[encoded data removed]",
      "text/plain": [
       "<matplotlib.figure.Figure at 0x7f56264cb3c8>"
      ]
     },
     "metadata": {
      "needs_background": "light"
     },
     "output_type": "display_data"
    }
   ],
   "source": [
    "df_clean[['rating_numerator', 'stage']].groupby(df_clean['stage']).boxplot(subplots=False);\n",
    "plt.title('WeRateDogs Ratings:\\nDog Stage vs Dog Rating', fontsize=16)\n",
    "plt.xlabel('Dog stage', fontsize=12)\n",
    "plt.ylabel('Rating (out of 10)', fontsize=12)\n",
    "plt.xticks([1, 2, 3, 4], ['None', 'Doggo', 'Pupper', 'Puppo']);"
   ]
  },
  {
   "cell_type": "markdown",
   "metadata": {},
   "source": [
    "While it's difficult to separate `Doggo` and `Puppo`dogs for best ratings, surprisingly (for me at least) `Pupper` dogs, the youngest category, get the worst ratings on average."
   ]
  },
  {
   "cell_type": "markdown",
   "metadata": {},
   "source": [
    "## 4.3 Which type of dog averaged the most retweets according to the image predictions?\n",
    "\n",
    "First, put the most confident prediction that is actually a dog into a new column:"
   ]
  },
  {
   "cell_type": "code",
   "execution_count": 50,
   "metadata": {},
   "outputs": [],
   "source": [
    "df_clean['top_dog_pred'] = 'Unknown'\n",
    "df_clean.loc[df_clean['p3_dog']==True, 'top_dog_pred'] = df_clean['p3']\n",
    "df_clean.loc[df_clean['p2_dog']==True, 'top_dog_pred'] = df_clean['p2']\n",
    "df_clean.loc[df_clean['p1_dog']==True, 'top_dog_pred'] = df_clean['p1']"
   ]
  },
  {
   "cell_type": "code",
   "execution_count": 51,
   "metadata": {},
   "outputs": [
    {
     "data": {
      "text/plain": [
       "Unknown                       168\n",
       "golden_retriever              105\n",
       "Labrador_retriever             72\n",
       "Pembroke                       71\n",
       "Chihuahua                      67\n",
       "pug                            46\n",
       "toy_poodle                     38\n",
       "chow                           37\n",
       "Pomeranian                     29\n",
       "French_bulldog                 25\n",
       "malamute                       25\n",
       "Samoyed                        24\n",
       "Chesapeake_Bay_retriever       23\n",
       "cocker_spaniel                 20\n",
       "Siberian_husky                 19\n",
       "miniature_pinscher             19\n",
       "Shih-Tzu                       17\n",
       "beagle                         16\n",
       "Staffordshire_bullterrier      16\n",
       "Cardigan                       16\n",
       "German_shepherd                15\n",
       "Old_English_sheepdog           14\n",
       "Eskimo_dog                     14\n",
       "Shetland_sheepdog              14\n",
       "Pekinese                       12\n",
       "basset                         12\n",
       "schipperke                     12\n",
       "kelpie                         11\n",
       "Italian_greyhound              11\n",
       "Lakeland_terrier               11\n",
       "                             ... \n",
       "giant_schnauzer                 3\n",
       "Saluki                          3\n",
       "Weimaraner                      3\n",
       "Bedlington_terrier              3\n",
       "cairn                           3\n",
       "Leonberg                        2\n",
       "komondor                        2\n",
       "curly-coated_retriever          2\n",
       "Greater_Swiss_Mountain_dog      2\n",
       "Rhodesian_ridgeback             2\n",
       "wire-haired_fox_terrier         2\n",
       "redbone                         2\n",
       "Sussex_spaniel                  2\n",
       "toy_terrier                     2\n",
       "Australian_terrier              2\n",
       "Scottish_deerhound              2\n",
       "Tibetan_mastiff                 2\n",
       "Irish_terrier                   2\n",
       "groenendael                     2\n",
       "Ibizan_hound                    2\n",
       "Appenzeller                     1\n",
       "Japanese_spaniel                1\n",
       "silky_terrier                   1\n",
       "Scotch_terrier                  1\n",
       "Brabancon_griffon               1\n",
       "standard_schnauzer              1\n",
       "clumber                         1\n",
       "Gordon_setter                   1\n",
       "Irish_wolfhound                 1\n",
       "briard                          1\n",
       "Name: top_dog_pred, Length: 111, dtype: int64"
      ]
     },
     "execution_count": 51,
     "metadata": {},
     "output_type": "execute_result"
    }
   ],
   "source": [
    "df_clean['top_dog_pred'].value_counts()"
   ]
  },
  {
   "cell_type": "code",
   "execution_count": 52,
   "metadata": {},
   "outputs": [
    {
     "data": {
      "text/html": [
       "<div>\n",
       "<style scoped>\n",
       "    .dataframe tbody tr th:only-of-type {\n",
       "        vertical-align: middle;\n",
       "    }\n",
       "\n",
       "    .dataframe tbody tr th {\n",
       "        vertical-align: top;\n",
       "    }\n",
       "\n",
       "    .dataframe thead th {\n",
       "        text-align: right;\n",
       "    }\n",
       "</style>\n",
       "<table border=\"1\" class=\"dataframe\">\n",
       "  <thead>\n",
       "    <tr style=\"text-align: right;\">\n",
       "      <th></th>\n",
       "      <th>retweets</th>\n",
       "    </tr>\n",
       "    <tr>\n",
       "      <th>top_dog_pred</th>\n",
       "      <th></th>\n",
       "    </tr>\n",
       "  </thead>\n",
       "  <tbody>\n",
       "    <tr>\n",
       "      <th>English_springer</th>\n",
       "      <td>10608.500000</td>\n",
       "    </tr>\n",
       "    <tr>\n",
       "      <th>standard_poodle</th>\n",
       "      <td>5681.666667</td>\n",
       "    </tr>\n",
       "    <tr>\n",
       "      <th>briard</th>\n",
       "      <td>5528.000000</td>\n",
       "    </tr>\n",
       "    <tr>\n",
       "      <th>whippet</th>\n",
       "      <td>5178.666667</td>\n",
       "    </tr>\n",
       "    <tr>\n",
       "      <th>Afghan_hound</th>\n",
       "      <td>5103.666667</td>\n",
       "    </tr>\n",
       "    <tr>\n",
       "      <th>Saluki</th>\n",
       "      <td>5024.666667</td>\n",
       "    </tr>\n",
       "    <tr>\n",
       "      <th>French_bulldog</th>\n",
       "      <td>4746.280000</td>\n",
       "    </tr>\n",
       "    <tr>\n",
       "      <th>Irish_water_spaniel</th>\n",
       "      <td>3872.000000</td>\n",
       "    </tr>\n",
       "    <tr>\n",
       "      <th>cocker_spaniel</th>\n",
       "      <td>3761.200000</td>\n",
       "    </tr>\n",
       "    <tr>\n",
       "      <th>Irish_setter</th>\n",
       "      <td>3706.000000</td>\n",
       "    </tr>\n",
       "    <tr>\n",
       "      <th>Cardigan</th>\n",
       "      <td>3699.500000</td>\n",
       "    </tr>\n",
       "    <tr>\n",
       "      <th>Leonberg</th>\n",
       "      <td>3695.500000</td>\n",
       "    </tr>\n",
       "    <tr>\n",
       "      <th>Samoyed</th>\n",
       "      <td>3556.166667</td>\n",
       "    </tr>\n",
       "    <tr>\n",
       "      <th>malamute</th>\n",
       "      <td>3468.720000</td>\n",
       "    </tr>\n",
       "    <tr>\n",
       "      <th>Great_Pyrenees</th>\n",
       "      <td>3432.000000</td>\n",
       "    </tr>\n",
       "    <tr>\n",
       "      <th>golden_retriever</th>\n",
       "      <td>3364.123810</td>\n",
       "    </tr>\n",
       "    <tr>\n",
       "      <th>Bedlington_terrier</th>\n",
       "      <td>3338.000000</td>\n",
       "    </tr>\n",
       "    <tr>\n",
       "      <th>Border_terrier</th>\n",
       "      <td>3327.333333</td>\n",
       "    </tr>\n",
       "    <tr>\n",
       "      <th>giant_schnauzer</th>\n",
       "      <td>2967.333333</td>\n",
       "    </tr>\n",
       "    <tr>\n",
       "      <th>Norwegian_elkhound</th>\n",
       "      <td>2943.666667</td>\n",
       "    </tr>\n",
       "    <tr>\n",
       "      <th>bloodhound</th>\n",
       "      <td>2858.800000</td>\n",
       "    </tr>\n",
       "    <tr>\n",
       "      <th>Walker_hound</th>\n",
       "      <td>2823.250000</td>\n",
       "    </tr>\n",
       "    <tr>\n",
       "      <th>Mexican_hairless</th>\n",
       "      <td>2705.166667</td>\n",
       "    </tr>\n",
       "    <tr>\n",
       "      <th>basset</th>\n",
       "      <td>2686.083333</td>\n",
       "    </tr>\n",
       "    <tr>\n",
       "      <th>Chihuahua</th>\n",
       "      <td>2683.074627</td>\n",
       "    </tr>\n",
       "    <tr>\n",
       "      <th>Australian_terrier</th>\n",
       "      <td>2670.500000</td>\n",
       "    </tr>\n",
       "    <tr>\n",
       "      <th>Italian_greyhound</th>\n",
       "      <td>2670.000000</td>\n",
       "    </tr>\n",
       "    <tr>\n",
       "      <th>Pembroke</th>\n",
       "      <td>2613.140845</td>\n",
       "    </tr>\n",
       "    <tr>\n",
       "      <th>Labrador_retriever</th>\n",
       "      <td>2601.875000</td>\n",
       "    </tr>\n",
       "    <tr>\n",
       "      <th>wire-haired_fox_terrier</th>\n",
       "      <td>2542.000000</td>\n",
       "    </tr>\n",
       "    <tr>\n",
       "      <th>...</th>\n",
       "      <td>...</td>\n",
       "    </tr>\n",
       "    <tr>\n",
       "      <th>papillon</th>\n",
       "      <td>1199.666667</td>\n",
       "    </tr>\n",
       "    <tr>\n",
       "      <th>Shih-Tzu</th>\n",
       "      <td>1193.941176</td>\n",
       "    </tr>\n",
       "    <tr>\n",
       "      <th>Gordon_setter</th>\n",
       "      <td>1180.000000</td>\n",
       "    </tr>\n",
       "    <tr>\n",
       "      <th>beagle</th>\n",
       "      <td>1145.937500</td>\n",
       "    </tr>\n",
       "    <tr>\n",
       "      <th>Welsh_springer_spaniel</th>\n",
       "      <td>1104.000000</td>\n",
       "    </tr>\n",
       "    <tr>\n",
       "      <th>Newfoundland</th>\n",
       "      <td>1102.500000</td>\n",
       "    </tr>\n",
       "    <tr>\n",
       "      <th>Scotch_terrier</th>\n",
       "      <td>1068.000000</td>\n",
       "    </tr>\n",
       "    <tr>\n",
       "      <th>Rhodesian_ridgeback</th>\n",
       "      <td>1066.500000</td>\n",
       "    </tr>\n",
       "    <tr>\n",
       "      <th>Sussex_spaniel</th>\n",
       "      <td>1063.500000</td>\n",
       "    </tr>\n",
       "    <tr>\n",
       "      <th>soft-coated_wheaten_terrier</th>\n",
       "      <td>1031.625000</td>\n",
       "    </tr>\n",
       "    <tr>\n",
       "      <th>cairn</th>\n",
       "      <td>1009.333333</td>\n",
       "    </tr>\n",
       "    <tr>\n",
       "      <th>toy_terrier</th>\n",
       "      <td>998.000000</td>\n",
       "    </tr>\n",
       "    <tr>\n",
       "      <th>redbone</th>\n",
       "      <td>949.000000</td>\n",
       "    </tr>\n",
       "    <tr>\n",
       "      <th>miniature_poodle</th>\n",
       "      <td>948.428571</td>\n",
       "    </tr>\n",
       "    <tr>\n",
       "      <th>Maltese_dog</th>\n",
       "      <td>933.800000</td>\n",
       "    </tr>\n",
       "    <tr>\n",
       "      <th>West_Highland_white_terrier</th>\n",
       "      <td>924.000000</td>\n",
       "    </tr>\n",
       "    <tr>\n",
       "      <th>Lakeland_terrier</th>\n",
       "      <td>892.727273</td>\n",
       "    </tr>\n",
       "    <tr>\n",
       "      <th>Lhasa</th>\n",
       "      <td>834.333333</td>\n",
       "    </tr>\n",
       "    <tr>\n",
       "      <th>Dandie_Dinmont</th>\n",
       "      <td>817.750000</td>\n",
       "    </tr>\n",
       "    <tr>\n",
       "      <th>miniature_schnauzer</th>\n",
       "      <td>807.600000</td>\n",
       "    </tr>\n",
       "    <tr>\n",
       "      <th>standard_schnauzer</th>\n",
       "      <td>775.000000</td>\n",
       "    </tr>\n",
       "    <tr>\n",
       "      <th>basenji</th>\n",
       "      <td>770.000000</td>\n",
       "    </tr>\n",
       "    <tr>\n",
       "      <th>Scottish_deerhound</th>\n",
       "      <td>757.500000</td>\n",
       "    </tr>\n",
       "    <tr>\n",
       "      <th>Irish_wolfhound</th>\n",
       "      <td>702.000000</td>\n",
       "    </tr>\n",
       "    <tr>\n",
       "      <th>Tibetan_terrier</th>\n",
       "      <td>477.500000</td>\n",
       "    </tr>\n",
       "    <tr>\n",
       "      <th>Japanese_spaniel</th>\n",
       "      <td>388.000000</td>\n",
       "    </tr>\n",
       "    <tr>\n",
       "      <th>groenendael</th>\n",
       "      <td>238.500000</td>\n",
       "    </tr>\n",
       "    <tr>\n",
       "      <th>curly-coated_retriever</th>\n",
       "      <td>234.000000</td>\n",
       "    </tr>\n",
       "    <tr>\n",
       "      <th>Ibizan_hound</th>\n",
       "      <td>167.500000</td>\n",
       "    </tr>\n",
       "    <tr>\n",
       "      <th>Brabancon_griffon</th>\n",
       "      <td>166.000000</td>\n",
       "    </tr>\n",
       "  </tbody>\n",
       "</table>\n",
       "<p>111 rows × 1 columns</p>\n",
       "</div>"
      ],
      "text/plain": [
       "                                 retweets\n",
       "top_dog_pred                             \n",
       "English_springer             10608.500000\n",
       "standard_poodle               5681.666667\n",
       "briard                        5528.000000\n",
       "whippet                       5178.666667\n",
       "Afghan_hound                  5103.666667\n",
       "Saluki                        5024.666667\n",
       "French_bulldog                4746.280000\n",
       "Irish_water_spaniel           3872.000000\n",
       "cocker_spaniel                3761.200000\n",
       "Irish_setter                  3706.000000\n",
       "Cardigan                      3699.500000\n",
       "Leonberg                      3695.500000\n",
       "Samoyed                       3556.166667\n",
       "malamute                      3468.720000\n",
       "Great_Pyrenees                3432.000000\n",
       "golden_retriever              3364.123810\n",
       "Bedlington_terrier            3338.000000\n",
       "Border_terrier                3327.333333\n",
       "giant_schnauzer               2967.333333\n",
       "Norwegian_elkhound            2943.666667\n",
       "bloodhound                    2858.800000\n",
       "Walker_hound                  2823.250000\n",
       "Mexican_hairless              2705.166667\n",
       "basset                        2686.083333\n",
       "Chihuahua                     2683.074627\n",
       "Australian_terrier            2670.500000\n",
       "Italian_greyhound             2670.000000\n",
       "Pembroke                      2613.140845\n",
       "Labrador_retriever            2601.875000\n",
       "wire-haired_fox_terrier       2542.000000\n",
       "...                                   ...\n",
       "papillon                      1199.666667\n",
       "Shih-Tzu                      1193.941176\n",
       "Gordon_setter                 1180.000000\n",
       "beagle                        1145.937500\n",
       "Welsh_springer_spaniel        1104.000000\n",
       "Newfoundland                  1102.500000\n",
       "Scotch_terrier                1068.000000\n",
       "Rhodesian_ridgeback           1066.500000\n",
       "Sussex_spaniel                1063.500000\n",
       "soft-coated_wheaten_terrier   1031.625000\n",
       "cairn                         1009.333333\n",
       "toy_terrier                    998.000000\n",
       "redbone                        949.000000\n",
       "miniature_poodle               948.428571\n",
       "Maltese_dog                    933.800000\n",
       "West_Highland_white_terrier    924.000000\n",
       "Lakeland_terrier               892.727273\n",
       "Lhasa                          834.333333\n",
       "Dandie_Dinmont                 817.750000\n",
       "miniature_schnauzer            807.600000\n",
       "standard_schnauzer             775.000000\n",
       "basenji                        770.000000\n",
       "Scottish_deerhound             757.500000\n",
       "Irish_wolfhound                702.000000\n",
       "Tibetan_terrier                477.500000\n",
       "Japanese_spaniel               388.000000\n",
       "groenendael                    238.500000\n",
       "curly-coated_retriever         234.000000\n",
       "Ibizan_hound                   167.500000\n",
       "Brabancon_griffon              166.000000\n",
       "\n",
       "[111 rows x 1 columns]"
      ]
     },
     "execution_count": 52,
     "metadata": {},
     "output_type": "execute_result"
    }
   ],
   "source": [
    "df_clean[['retweets', 'top_dog_pred']].groupby('top_dog_pred') \\\n",
    "        .mean().sort_values(by='retweets', ascending=False)"
   ]
  },
  {
   "cell_type": "markdown",
   "metadata": {},
   "source": [
    "The English Springer averaged the most retweets."
   ]
  }
 ],
 "metadata": {
  "kernelspec": {
   "display_name": "Python 3",
   "language": "python",
   "name": "python3"
  },
  "language_info": {
   "codemirror_mode": {
    "name": "ipython",
    "version": 3
   },
   "file_extension": ".py",
   "mimetype": "text/x-python",
   "name": "python",
   "nbconvert_exporter": "python",
   "pygments_lexer": "ipython3",
   "version": "3.6.3"
  }
 },
 "nbformat": 4,
 "nbformat_minor": 2
}
